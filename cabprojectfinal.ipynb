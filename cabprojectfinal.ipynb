{
 "cells": [
  {
   "cell_type": "code",
   "execution_count": 508,
   "metadata": {
    "id": "atnU_U_7lyZG"
   },
   "outputs": [],
   "source": [
    "###libraries importing\n",
    "import pandas as pd\n",
    "import numpy as np\n",
    "import seaborn as sns\n",
    "import matplotlib.pyplot as plt"
   ]
  },
  {
   "cell_type": "code",
   "execution_count": 509,
   "metadata": {
    "id": "pUIc9aiorT27"
   },
   "outputs": [],
   "source": [
    "import warnings\n",
    "warnings.filterwarnings(\"ignore\")"
   ]
  },
  {
   "cell_type": "code",
   "execution_count": 510,
   "metadata": {
    "id": "90Zlj5bbwQo5"
   },
   "outputs": [],
   "source": [
    "tra_data=pd.read_csv(r\"/content/train.csv\")##train\n",
    "tra_label=pd.read_csv(r\"/content/train_label.csv\",names=[\"labels\"],header=None)\n",
    "tst_data=pd.read_csv(r\"/content/test.csv\")##test\n",
    "tst_label=pd.read_csv(r\"/content/test_label.csv\",names=[\"labels\"],header=None)"
   ]
  },
  {
   "cell_type": "code",
   "execution_count": 511,
   "metadata": {
    "colab": {
     "base_uri": "https://localhost:8080/",
     "height": 203
    },
    "id": "BgnUZxNjwrti",
    "outputId": "c42780fa-ebe2-44c6-a936-57014bbaff62"
   },
   "outputs": [
    {
     "data": {
      "text/html": [
       "<div>\n",
       "<style scoped>\n",
       "    .dataframe tbody tr th:only-of-type {\n",
       "        vertical-align: middle;\n",
       "    }\n",
       "\n",
       "    .dataframe tbody tr th {\n",
       "        vertical-align: top;\n",
       "    }\n",
       "\n",
       "    .dataframe thead th {\n",
       "        text-align: right;\n",
       "    }\n",
       "</style>\n",
       "<table border=\"1\" class=\"dataframe\">\n",
       "  <thead>\n",
       "    <tr style=\"text-align: right;\">\n",
       "      <th></th>\n",
       "      <th>datetime</th>\n",
       "      <th>season</th>\n",
       "      <th>holiday</th>\n",
       "      <th>workingday</th>\n",
       "      <th>weather</th>\n",
       "      <th>temp</th>\n",
       "      <th>atemp</th>\n",
       "      <th>humidity</th>\n",
       "      <th>windspeed</th>\n",
       "    </tr>\n",
       "  </thead>\n",
       "  <tbody>\n",
       "    <tr>\n",
       "      <th>0</th>\n",
       "      <td>5/2/2012 19:00</td>\n",
       "      <td>Summer</td>\n",
       "      <td>0</td>\n",
       "      <td>1</td>\n",
       "      <td>Clear + Few clouds</td>\n",
       "      <td>22.14</td>\n",
       "      <td>25.760</td>\n",
       "      <td>77</td>\n",
       "      <td>16.9979</td>\n",
       "    </tr>\n",
       "    <tr>\n",
       "      <th>1</th>\n",
       "      <td>9/5/2012 4:00</td>\n",
       "      <td>Fall</td>\n",
       "      <td>0</td>\n",
       "      <td>1</td>\n",
       "      <td>Clear + Few clouds</td>\n",
       "      <td>28.70</td>\n",
       "      <td>33.335</td>\n",
       "      <td>79</td>\n",
       "      <td>19.0012</td>\n",
       "    </tr>\n",
       "    <tr>\n",
       "      <th>2</th>\n",
       "      <td>1/13/2011 9:00</td>\n",
       "      <td>Spring</td>\n",
       "      <td>0</td>\n",
       "      <td>1</td>\n",
       "      <td>Clear + Few clouds</td>\n",
       "      <td>5.74</td>\n",
       "      <td>6.060</td>\n",
       "      <td>50</td>\n",
       "      <td>22.0028</td>\n",
       "    </tr>\n",
       "    <tr>\n",
       "      <th>3</th>\n",
       "      <td>11/18/2011 16:00</td>\n",
       "      <td>Winter</td>\n",
       "      <td>0</td>\n",
       "      <td>1</td>\n",
       "      <td>Clear + Few clouds</td>\n",
       "      <td>13.94</td>\n",
       "      <td>16.665</td>\n",
       "      <td>29</td>\n",
       "      <td>8.9981</td>\n",
       "    </tr>\n",
       "    <tr>\n",
       "      <th>4</th>\n",
       "      <td>9/13/2011 13:00</td>\n",
       "      <td>Fall</td>\n",
       "      <td>0</td>\n",
       "      <td>1</td>\n",
       "      <td>Clear + Few clouds</td>\n",
       "      <td>30.34</td>\n",
       "      <td>33.335</td>\n",
       "      <td>51</td>\n",
       "      <td>19.0012</td>\n",
       "    </tr>\n",
       "  </tbody>\n",
       "</table>\n",
       "</div>"
      ],
      "text/plain": [
       "           datetime  season  holiday  ...   atemp humidity  windspeed\n",
       "0    5/2/2012 19:00  Summer        0  ...  25.760       77    16.9979\n",
       "1     9/5/2012 4:00    Fall        0  ...  33.335       79    19.0012\n",
       "2    1/13/2011 9:00  Spring        0  ...   6.060       50    22.0028\n",
       "3  11/18/2011 16:00  Winter        0  ...  16.665       29     8.9981\n",
       "4   9/13/2011 13:00    Fall        0  ...  33.335       51    19.0012\n",
       "\n",
       "[5 rows x 9 columns]"
      ]
     },
     "execution_count": 511,
     "metadata": {},
     "output_type": "execute_result"
    }
   ],
   "source": [
    "tra_data.head()"
   ]
  },
  {
   "cell_type": "code",
   "execution_count": 512,
   "metadata": {
    "id": "ixUWHqkTwxKQ"
   },
   "outputs": [],
   "source": [
    "df1 = pd.concat([tra_data, tra_label],axis =1).copy()###train data"
   ]
  },
  {
   "cell_type": "code",
   "execution_count": 513,
   "metadata": {
    "id": "BggUQmgDw9RJ"
   },
   "outputs": [],
   "source": [
    "df2 = pd.concat([tst_data, tst_label],axis =1).copy()###test data"
   ]
  },
  {
   "cell_type": "code",
   "execution_count": 514,
   "metadata": {
    "colab": {
     "base_uri": "https://localhost:8080/",
     "height": 203
    },
    "id": "s-ymzNauxEVI",
    "outputId": "bb987086-2a87-4dd3-f239-ae27dc6e98f5"
   },
   "outputs": [
    {
     "data": {
      "text/html": [
       "<div>\n",
       "<style scoped>\n",
       "    .dataframe tbody tr th:only-of-type {\n",
       "        vertical-align: middle;\n",
       "    }\n",
       "\n",
       "    .dataframe tbody tr th {\n",
       "        vertical-align: top;\n",
       "    }\n",
       "\n",
       "    .dataframe thead th {\n",
       "        text-align: right;\n",
       "    }\n",
       "</style>\n",
       "<table border=\"1\" class=\"dataframe\">\n",
       "  <thead>\n",
       "    <tr style=\"text-align: right;\">\n",
       "      <th></th>\n",
       "      <th>datetime</th>\n",
       "      <th>season</th>\n",
       "      <th>holiday</th>\n",
       "      <th>workingday</th>\n",
       "      <th>weather</th>\n",
       "      <th>temp</th>\n",
       "      <th>atemp</th>\n",
       "      <th>humidity</th>\n",
       "      <th>windspeed</th>\n",
       "      <th>labels</th>\n",
       "    </tr>\n",
       "  </thead>\n",
       "  <tbody>\n",
       "    <tr>\n",
       "      <th>0</th>\n",
       "      <td>5/2/2012 19:00</td>\n",
       "      <td>Summer</td>\n",
       "      <td>0</td>\n",
       "      <td>1</td>\n",
       "      <td>Clear + Few clouds</td>\n",
       "      <td>22.14</td>\n",
       "      <td>25.760</td>\n",
       "      <td>77</td>\n",
       "      <td>16.9979</td>\n",
       "      <td>504</td>\n",
       "    </tr>\n",
       "    <tr>\n",
       "      <th>1</th>\n",
       "      <td>9/5/2012 4:00</td>\n",
       "      <td>Fall</td>\n",
       "      <td>0</td>\n",
       "      <td>1</td>\n",
       "      <td>Clear + Few clouds</td>\n",
       "      <td>28.70</td>\n",
       "      <td>33.335</td>\n",
       "      <td>79</td>\n",
       "      <td>19.0012</td>\n",
       "      <td>5</td>\n",
       "    </tr>\n",
       "    <tr>\n",
       "      <th>2</th>\n",
       "      <td>1/13/2011 9:00</td>\n",
       "      <td>Spring</td>\n",
       "      <td>0</td>\n",
       "      <td>1</td>\n",
       "      <td>Clear + Few clouds</td>\n",
       "      <td>5.74</td>\n",
       "      <td>6.060</td>\n",
       "      <td>50</td>\n",
       "      <td>22.0028</td>\n",
       "      <td>139</td>\n",
       "    </tr>\n",
       "    <tr>\n",
       "      <th>3</th>\n",
       "      <td>11/18/2011 16:00</td>\n",
       "      <td>Winter</td>\n",
       "      <td>0</td>\n",
       "      <td>1</td>\n",
       "      <td>Clear + Few clouds</td>\n",
       "      <td>13.94</td>\n",
       "      <td>16.665</td>\n",
       "      <td>29</td>\n",
       "      <td>8.9981</td>\n",
       "      <td>209</td>\n",
       "    </tr>\n",
       "    <tr>\n",
       "      <th>4</th>\n",
       "      <td>9/13/2011 13:00</td>\n",
       "      <td>Fall</td>\n",
       "      <td>0</td>\n",
       "      <td>1</td>\n",
       "      <td>Clear + Few clouds</td>\n",
       "      <td>30.34</td>\n",
       "      <td>33.335</td>\n",
       "      <td>51</td>\n",
       "      <td>19.0012</td>\n",
       "      <td>184</td>\n",
       "    </tr>\n",
       "  </tbody>\n",
       "</table>\n",
       "</div>"
      ],
      "text/plain": [
       "           datetime  season  holiday  ...  humidity windspeed  labels\n",
       "0    5/2/2012 19:00  Summer        0  ...        77   16.9979     504\n",
       "1     9/5/2012 4:00    Fall        0  ...        79   19.0012       5\n",
       "2    1/13/2011 9:00  Spring        0  ...        50   22.0028     139\n",
       "3  11/18/2011 16:00  Winter        0  ...        29    8.9981     209\n",
       "4   9/13/2011 13:00    Fall        0  ...        51   19.0012     184\n",
       "\n",
       "[5 rows x 10 columns]"
      ]
     },
     "execution_count": 514,
     "metadata": {},
     "output_type": "execute_result"
    }
   ],
   "source": [
    "df1.head()"
   ]
  },
  {
   "cell_type": "code",
   "execution_count": 515,
   "metadata": {
    "colab": {
     "base_uri": "https://localhost:8080/",
     "height": 203
    },
    "id": "_ov3m0AjxG_U",
    "outputId": "c8169a45-8385-4293-cb85-f90b9d6b1df1"
   },
   "outputs": [
    {
     "data": {
      "text/html": [
       "<div>\n",
       "<style scoped>\n",
       "    .dataframe tbody tr th:only-of-type {\n",
       "        vertical-align: middle;\n",
       "    }\n",
       "\n",
       "    .dataframe tbody tr th {\n",
       "        vertical-align: top;\n",
       "    }\n",
       "\n",
       "    .dataframe thead th {\n",
       "        text-align: right;\n",
       "    }\n",
       "</style>\n",
       "<table border=\"1\" class=\"dataframe\">\n",
       "  <thead>\n",
       "    <tr style=\"text-align: right;\">\n",
       "      <th></th>\n",
       "      <th>datetime</th>\n",
       "      <th>season</th>\n",
       "      <th>holiday</th>\n",
       "      <th>workingday</th>\n",
       "      <th>weather</th>\n",
       "      <th>temp</th>\n",
       "      <th>atemp</th>\n",
       "      <th>humidity</th>\n",
       "      <th>windspeed</th>\n",
       "      <th>labels</th>\n",
       "    </tr>\n",
       "  </thead>\n",
       "  <tbody>\n",
       "    <tr>\n",
       "      <th>0</th>\n",
       "      <td>5/10/2012 11:00</td>\n",
       "      <td>Summer</td>\n",
       "      <td>0</td>\n",
       "      <td>1</td>\n",
       "      <td>Clear + Few clouds</td>\n",
       "      <td>21.32</td>\n",
       "      <td>25.000</td>\n",
       "      <td>48</td>\n",
       "      <td>35.0008</td>\n",
       "      <td>256</td>\n",
       "    </tr>\n",
       "    <tr>\n",
       "      <th>1</th>\n",
       "      <td>6/9/2012 7:00</td>\n",
       "      <td>Summer</td>\n",
       "      <td>0</td>\n",
       "      <td>0</td>\n",
       "      <td>Clear + Few clouds</td>\n",
       "      <td>23.78</td>\n",
       "      <td>27.275</td>\n",
       "      <td>64</td>\n",
       "      <td>7.0015</td>\n",
       "      <td>87</td>\n",
       "    </tr>\n",
       "    <tr>\n",
       "      <th>2</th>\n",
       "      <td>3/6/2011 20:00</td>\n",
       "      <td>Spring</td>\n",
       "      <td>0</td>\n",
       "      <td>0</td>\n",
       "      <td>Light Snow, Light Rain</td>\n",
       "      <td>11.48</td>\n",
       "      <td>12.120</td>\n",
       "      <td>100</td>\n",
       "      <td>27.9993</td>\n",
       "      <td>11</td>\n",
       "    </tr>\n",
       "    <tr>\n",
       "      <th>3</th>\n",
       "      <td>10/13/2011 11:00</td>\n",
       "      <td>Winter</td>\n",
       "      <td>0</td>\n",
       "      <td>1</td>\n",
       "      <td>Mist + Cloudy</td>\n",
       "      <td>25.42</td>\n",
       "      <td>28.790</td>\n",
       "      <td>83</td>\n",
       "      <td>0.0000</td>\n",
       "      <td>84</td>\n",
       "    </tr>\n",
       "    <tr>\n",
       "      <th>4</th>\n",
       "      <td>6/2/2012 12:00</td>\n",
       "      <td>Summer</td>\n",
       "      <td>0</td>\n",
       "      <td>0</td>\n",
       "      <td>Clear + Few clouds</td>\n",
       "      <td>25.42</td>\n",
       "      <td>31.060</td>\n",
       "      <td>43</td>\n",
       "      <td>23.9994</td>\n",
       "      <td>668</td>\n",
       "    </tr>\n",
       "  </tbody>\n",
       "</table>\n",
       "</div>"
      ],
      "text/plain": [
       "           datetime  season  holiday  ...  humidity windspeed  labels\n",
       "0   5/10/2012 11:00  Summer        0  ...        48   35.0008     256\n",
       "1     6/9/2012 7:00  Summer        0  ...        64    7.0015      87\n",
       "2    3/6/2011 20:00  Spring        0  ...       100   27.9993      11\n",
       "3  10/13/2011 11:00  Winter        0  ...        83    0.0000      84\n",
       "4    6/2/2012 12:00  Summer        0  ...        43   23.9994     668\n",
       "\n",
       "[5 rows x 10 columns]"
      ]
     },
     "execution_count": 515,
     "metadata": {},
     "output_type": "execute_result"
    }
   ],
   "source": [
    "df2.head()"
   ]
  },
  {
   "cell_type": "code",
   "execution_count": 516,
   "metadata": {
    "colab": {
     "base_uri": "https://localhost:8080/"
    },
    "id": "QT9DCjZJxJba",
    "outputId": "3119cfca-a816-46a2-c1c2-aa22c96316c5"
   },
   "outputs": [
    {
     "data": {
      "text/plain": [
       "datetime       object\n",
       "season         object\n",
       "holiday         int64\n",
       "workingday      int64\n",
       "weather        object\n",
       "temp          float64\n",
       "atemp         float64\n",
       "humidity        int64\n",
       "windspeed     float64\n",
       "labels          int64\n",
       "dtype: object"
      ]
     },
     "execution_count": 516,
     "metadata": {},
     "output_type": "execute_result"
    }
   ],
   "source": [
    "df1.dtypes####data types of train data"
   ]
  },
  {
   "cell_type": "code",
   "execution_count": 517,
   "metadata": {
    "colab": {
     "base_uri": "https://localhost:8080/"
    },
    "id": "E92zcF7sxduC",
    "outputId": "3b4fbe96-9e78-49e9-9c75-87ea8207a7ab"
   },
   "outputs": [
    {
     "data": {
      "text/plain": [
       "(8708, 10)"
      ]
     },
     "execution_count": 517,
     "metadata": {},
     "output_type": "execute_result"
    }
   ],
   "source": [
    "df1.shape#####shape of train data"
   ]
  },
  {
   "cell_type": "code",
   "execution_count": 518,
   "metadata": {
    "colab": {
     "base_uri": "https://localhost:8080/"
    },
    "id": "dN6PEH_xxi-b",
    "outputId": "fcc745b3-9824-4854-83f8-9fe56888b060"
   },
   "outputs": [
    {
     "data": {
      "text/plain": [
       "(2178, 10)"
      ]
     },
     "execution_count": 518,
     "metadata": {},
     "output_type": "execute_result"
    }
   ],
   "source": [
    "df2.shape#####shape of test data"
   ]
  },
  {
   "cell_type": "code",
   "execution_count": 519,
   "metadata": {
    "colab": {
     "base_uri": "https://localhost:8080/"
    },
    "id": "4TpPf48vxlSy",
    "outputId": "2d296994-c998-40d9-b298-2adb2aade2b6"
   },
   "outputs": [
    {
     "data": {
      "text/plain": [
       "datetime       object\n",
       "season         object\n",
       "holiday         int64\n",
       "workingday      int64\n",
       "weather        object\n",
       "temp          float64\n",
       "atemp         float64\n",
       "humidity        int64\n",
       "windspeed     float64\n",
       "labels          int64\n",
       "dtype: object"
      ]
     },
     "execution_count": 519,
     "metadata": {},
     "output_type": "execute_result"
    }
   ],
   "source": [
    "df2.dtypes"
   ]
  },
  {
   "cell_type": "code",
   "execution_count": 520,
   "metadata": {
    "colab": {
     "base_uri": "https://localhost:8080/"
    },
    "id": "O2rcK7jsxoCr",
    "outputId": "561a751d-6372-4a4d-92f2-f5bd68ba38ad"
   },
   "outputs": [
    {
     "data": {
      "text/plain": [
       "datetime      0\n",
       "season        0\n",
       "holiday       0\n",
       "workingday    0\n",
       "weather       0\n",
       "temp          0\n",
       "atemp         0\n",
       "humidity      0\n",
       "windspeed     0\n",
       "labels        0\n",
       "dtype: int64"
      ]
     },
     "execution_count": 520,
     "metadata": {},
     "output_type": "execute_result"
    }
   ],
   "source": [
    "##  check the Missing value in the dataset\n",
    "df1.isnull().sum()"
   ]
  },
  {
   "cell_type": "code",
   "execution_count": 521,
   "metadata": {
    "colab": {
     "base_uri": "https://localhost:8080/"
    },
    "id": "cSo3iXJRx57-",
    "outputId": "0e9ecf36-b864-452f-9362-4452e31bb97a"
   },
   "outputs": [
    {
     "data": {
      "text/plain": [
       "datetime      0\n",
       "season        0\n",
       "holiday       0\n",
       "workingday    0\n",
       "weather       0\n",
       "temp          0\n",
       "atemp         0\n",
       "humidity      0\n",
       "windspeed     0\n",
       "labels        0\n",
       "dtype: int64"
      ]
     },
     "execution_count": 521,
     "metadata": {},
     "output_type": "execute_result"
    }
   ],
   "source": [
    "##  check the Missing value in the dataset\n",
    "df2.isnull().sum()"
   ]
  },
  {
   "cell_type": "code",
   "execution_count": 522,
   "metadata": {
    "colab": {
     "base_uri": "https://localhost:8080/",
     "height": 417
    },
    "id": "Qze1TIzhx9XP",
    "outputId": "7a9a1c9f-baeb-45d0-d141-eac8b878ff50"
   },
   "outputs": [
    {
     "data": {
      "text/html": [
       "<div>\n",
       "<style scoped>\n",
       "    .dataframe tbody tr th:only-of-type {\n",
       "        vertical-align: middle;\n",
       "    }\n",
       "\n",
       "    .dataframe tbody tr th {\n",
       "        vertical-align: top;\n",
       "    }\n",
       "\n",
       "    .dataframe thead th {\n",
       "        text-align: right;\n",
       "    }\n",
       "</style>\n",
       "<table border=\"1\" class=\"dataframe\">\n",
       "  <thead>\n",
       "    <tr style=\"text-align: right;\">\n",
       "      <th></th>\n",
       "      <th>datetime</th>\n",
       "      <th>season</th>\n",
       "      <th>holiday</th>\n",
       "      <th>workingday</th>\n",
       "      <th>weather</th>\n",
       "      <th>temp</th>\n",
       "      <th>atemp</th>\n",
       "      <th>humidity</th>\n",
       "      <th>windspeed</th>\n",
       "      <th>labels</th>\n",
       "      <th>month</th>\n",
       "      <th>weekday</th>\n",
       "      <th>hour</th>\n",
       "      <th>date</th>\n",
       "    </tr>\n",
       "  </thead>\n",
       "  <tbody>\n",
       "    <tr>\n",
       "      <th>0</th>\n",
       "      <td>5/2/2012 19:00</td>\n",
       "      <td>Summer</td>\n",
       "      <td>0</td>\n",
       "      <td>1</td>\n",
       "      <td>Clear + Few clouds</td>\n",
       "      <td>22.14</td>\n",
       "      <td>25.760</td>\n",
       "      <td>77</td>\n",
       "      <td>16.9979</td>\n",
       "      <td>504</td>\n",
       "      <td>May</td>\n",
       "      <td>Wednesday</td>\n",
       "      <td>19</td>\n",
       "      <td>2012</td>\n",
       "    </tr>\n",
       "    <tr>\n",
       "      <th>1</th>\n",
       "      <td>9/5/2012 4:00</td>\n",
       "      <td>Fall</td>\n",
       "      <td>0</td>\n",
       "      <td>1</td>\n",
       "      <td>Clear + Few clouds</td>\n",
       "      <td>28.70</td>\n",
       "      <td>33.335</td>\n",
       "      <td>79</td>\n",
       "      <td>19.0012</td>\n",
       "      <td>5</td>\n",
       "      <td>September</td>\n",
       "      <td>Wednesday</td>\n",
       "      <td>4</td>\n",
       "      <td>2012</td>\n",
       "    </tr>\n",
       "    <tr>\n",
       "      <th>2</th>\n",
       "      <td>1/13/2011 9:00</td>\n",
       "      <td>Spring</td>\n",
       "      <td>0</td>\n",
       "      <td>1</td>\n",
       "      <td>Clear + Few clouds</td>\n",
       "      <td>5.74</td>\n",
       "      <td>6.060</td>\n",
       "      <td>50</td>\n",
       "      <td>22.0028</td>\n",
       "      <td>139</td>\n",
       "      <td>January</td>\n",
       "      <td>Thursday</td>\n",
       "      <td>9</td>\n",
       "      <td>2011</td>\n",
       "    </tr>\n",
       "    <tr>\n",
       "      <th>3</th>\n",
       "      <td>11/18/2011 16:00</td>\n",
       "      <td>Winter</td>\n",
       "      <td>0</td>\n",
       "      <td>1</td>\n",
       "      <td>Clear + Few clouds</td>\n",
       "      <td>13.94</td>\n",
       "      <td>16.665</td>\n",
       "      <td>29</td>\n",
       "      <td>8.9981</td>\n",
       "      <td>209</td>\n",
       "      <td>November</td>\n",
       "      <td>Friday</td>\n",
       "      <td>16</td>\n",
       "      <td>2011</td>\n",
       "    </tr>\n",
       "    <tr>\n",
       "      <th>4</th>\n",
       "      <td>9/13/2011 13:00</td>\n",
       "      <td>Fall</td>\n",
       "      <td>0</td>\n",
       "      <td>1</td>\n",
       "      <td>Clear + Few clouds</td>\n",
       "      <td>30.34</td>\n",
       "      <td>33.335</td>\n",
       "      <td>51</td>\n",
       "      <td>19.0012</td>\n",
       "      <td>184</td>\n",
       "      <td>September</td>\n",
       "      <td>Tuesday</td>\n",
       "      <td>13</td>\n",
       "      <td>2011</td>\n",
       "    </tr>\n",
       "    <tr>\n",
       "      <th>...</th>\n",
       "      <td>...</td>\n",
       "      <td>...</td>\n",
       "      <td>...</td>\n",
       "      <td>...</td>\n",
       "      <td>...</td>\n",
       "      <td>...</td>\n",
       "      <td>...</td>\n",
       "      <td>...</td>\n",
       "      <td>...</td>\n",
       "      <td>...</td>\n",
       "      <td>...</td>\n",
       "      <td>...</td>\n",
       "      <td>...</td>\n",
       "      <td>...</td>\n",
       "    </tr>\n",
       "    <tr>\n",
       "      <th>8703</th>\n",
       "      <td>1/16/2012 6:00</td>\n",
       "      <td>Spring</td>\n",
       "      <td>1</td>\n",
       "      <td>0</td>\n",
       "      <td>Clear + Few clouds</td>\n",
       "      <td>4.10</td>\n",
       "      <td>6.820</td>\n",
       "      <td>54</td>\n",
       "      <td>6.0032</td>\n",
       "      <td>13</td>\n",
       "      <td>January</td>\n",
       "      <td>Monday</td>\n",
       "      <td>6</td>\n",
       "      <td>2012</td>\n",
       "    </tr>\n",
       "    <tr>\n",
       "      <th>8704</th>\n",
       "      <td>11/10/2011 1:00</td>\n",
       "      <td>Winter</td>\n",
       "      <td>0</td>\n",
       "      <td>1</td>\n",
       "      <td>Mist + Cloudy</td>\n",
       "      <td>16.40</td>\n",
       "      <td>20.455</td>\n",
       "      <td>87</td>\n",
       "      <td>0.0000</td>\n",
       "      <td>11</td>\n",
       "      <td>November</td>\n",
       "      <td>Thursday</td>\n",
       "      <td>1</td>\n",
       "      <td>2011</td>\n",
       "    </tr>\n",
       "    <tr>\n",
       "      <th>8705</th>\n",
       "      <td>4/12/2011 3:00</td>\n",
       "      <td>Summer</td>\n",
       "      <td>0</td>\n",
       "      <td>1</td>\n",
       "      <td>Mist + Cloudy</td>\n",
       "      <td>23.78</td>\n",
       "      <td>27.275</td>\n",
       "      <td>56</td>\n",
       "      <td>8.9981</td>\n",
       "      <td>1</td>\n",
       "      <td>April</td>\n",
       "      <td>Tuesday</td>\n",
       "      <td>3</td>\n",
       "      <td>2011</td>\n",
       "    </tr>\n",
       "    <tr>\n",
       "      <th>8706</th>\n",
       "      <td>11/7/2012 1:00</td>\n",
       "      <td>Winter</td>\n",
       "      <td>0</td>\n",
       "      <td>1</td>\n",
       "      <td>Mist + Cloudy</td>\n",
       "      <td>11.48</td>\n",
       "      <td>13.635</td>\n",
       "      <td>61</td>\n",
       "      <td>16.9979</td>\n",
       "      <td>92</td>\n",
       "      <td>November</td>\n",
       "      <td>Wednesday</td>\n",
       "      <td>1</td>\n",
       "      <td>2012</td>\n",
       "    </tr>\n",
       "    <tr>\n",
       "      <th>8707</th>\n",
       "      <td>1/10/2011 10:00</td>\n",
       "      <td>Spring</td>\n",
       "      <td>0</td>\n",
       "      <td>1</td>\n",
       "      <td>Mist + Cloudy</td>\n",
       "      <td>5.74</td>\n",
       "      <td>6.060</td>\n",
       "      <td>50</td>\n",
       "      <td>19.9995</td>\n",
       "      <td>31</td>\n",
       "      <td>January</td>\n",
       "      <td>Monday</td>\n",
       "      <td>10</td>\n",
       "      <td>2011</td>\n",
       "    </tr>\n",
       "  </tbody>\n",
       "</table>\n",
       "<p>8708 rows × 14 columns</p>\n",
       "</div>"
      ],
      "text/plain": [
       "              datetime  season  holiday  ...    weekday hour  date\n",
       "0       5/2/2012 19:00  Summer        0  ...  Wednesday   19  2012\n",
       "1        9/5/2012 4:00    Fall        0  ...  Wednesday    4  2012\n",
       "2       1/13/2011 9:00  Spring        0  ...   Thursday    9  2011\n",
       "3     11/18/2011 16:00  Winter        0  ...     Friday   16  2011\n",
       "4      9/13/2011 13:00    Fall        0  ...    Tuesday   13  2011\n",
       "...                ...     ...      ...  ...        ...  ...   ...\n",
       "8703    1/16/2012 6:00  Spring        1  ...     Monday    6  2012\n",
       "8704   11/10/2011 1:00  Winter        0  ...   Thursday    1  2011\n",
       "8705    4/12/2011 3:00  Summer        0  ...    Tuesday    3  2011\n",
       "8706    11/7/2012 1:00  Winter        0  ...  Wednesday    1  2012\n",
       "8707   1/10/2011 10:00  Spring        0  ...     Monday   10  2011\n",
       "\n",
       "[8708 rows x 14 columns]"
      ]
     },
     "execution_count": 522,
     "metadata": {},
     "output_type": "execute_result"
    }
   ],
   "source": [
    "##Create new columns date, hour,weekDay,monthfrom datetimecolumn\n",
    "df1['month'] = pd.to_datetime(df1.datetime, format='%m/%d/%Y %H:%M').dt.month_name()\n",
    "\n",
    "df1['weekday'] = pd.to_datetime(df1.datetime, format='%m/%d/%Y %H:%M').dt.day_name()\n",
    "\n",
    "df1['hour'] = pd.DatetimeIndex(df1['datetime']).hour\n",
    "df1['date'] = pd.DatetimeIndex(df1['datetime']).year\n",
    "\n",
    "df1"
   ]
  },
  {
   "cell_type": "code",
   "execution_count": 523,
   "metadata": {
    "colab": {
     "base_uri": "https://localhost:8080/",
     "height": 417
    },
    "id": "D1hfNHTJhqxG",
    "outputId": "b63064c1-025e-4c2d-bf64-7818f3e5774b"
   },
   "outputs": [
    {
     "data": {
      "text/html": [
       "<div>\n",
       "<style scoped>\n",
       "    .dataframe tbody tr th:only-of-type {\n",
       "        vertical-align: middle;\n",
       "    }\n",
       "\n",
       "    .dataframe tbody tr th {\n",
       "        vertical-align: top;\n",
       "    }\n",
       "\n",
       "    .dataframe thead th {\n",
       "        text-align: right;\n",
       "    }\n",
       "</style>\n",
       "<table border=\"1\" class=\"dataframe\">\n",
       "  <thead>\n",
       "    <tr style=\"text-align: right;\">\n",
       "      <th></th>\n",
       "      <th>datetime</th>\n",
       "      <th>season</th>\n",
       "      <th>holiday</th>\n",
       "      <th>workingday</th>\n",
       "      <th>weather</th>\n",
       "      <th>temp</th>\n",
       "      <th>atemp</th>\n",
       "      <th>humidity</th>\n",
       "      <th>windspeed</th>\n",
       "      <th>labels</th>\n",
       "      <th>month</th>\n",
       "      <th>weekday</th>\n",
       "      <th>hour</th>\n",
       "      <th>date</th>\n",
       "    </tr>\n",
       "  </thead>\n",
       "  <tbody>\n",
       "    <tr>\n",
       "      <th>0</th>\n",
       "      <td>5/10/2012 11:00</td>\n",
       "      <td>Summer</td>\n",
       "      <td>0</td>\n",
       "      <td>1</td>\n",
       "      <td>Clear + Few clouds</td>\n",
       "      <td>21.32</td>\n",
       "      <td>25.000</td>\n",
       "      <td>48</td>\n",
       "      <td>35.0008</td>\n",
       "      <td>256</td>\n",
       "      <td>May</td>\n",
       "      <td>Thursday</td>\n",
       "      <td>11</td>\n",
       "      <td>2012</td>\n",
       "    </tr>\n",
       "    <tr>\n",
       "      <th>1</th>\n",
       "      <td>6/9/2012 7:00</td>\n",
       "      <td>Summer</td>\n",
       "      <td>0</td>\n",
       "      <td>0</td>\n",
       "      <td>Clear + Few clouds</td>\n",
       "      <td>23.78</td>\n",
       "      <td>27.275</td>\n",
       "      <td>64</td>\n",
       "      <td>7.0015</td>\n",
       "      <td>87</td>\n",
       "      <td>June</td>\n",
       "      <td>Saturday</td>\n",
       "      <td>7</td>\n",
       "      <td>2012</td>\n",
       "    </tr>\n",
       "    <tr>\n",
       "      <th>2</th>\n",
       "      <td>3/6/2011 20:00</td>\n",
       "      <td>Spring</td>\n",
       "      <td>0</td>\n",
       "      <td>0</td>\n",
       "      <td>Light Snow, Light Rain</td>\n",
       "      <td>11.48</td>\n",
       "      <td>12.120</td>\n",
       "      <td>100</td>\n",
       "      <td>27.9993</td>\n",
       "      <td>11</td>\n",
       "      <td>March</td>\n",
       "      <td>Sunday</td>\n",
       "      <td>20</td>\n",
       "      <td>2011</td>\n",
       "    </tr>\n",
       "    <tr>\n",
       "      <th>3</th>\n",
       "      <td>10/13/2011 11:00</td>\n",
       "      <td>Winter</td>\n",
       "      <td>0</td>\n",
       "      <td>1</td>\n",
       "      <td>Mist + Cloudy</td>\n",
       "      <td>25.42</td>\n",
       "      <td>28.790</td>\n",
       "      <td>83</td>\n",
       "      <td>0.0000</td>\n",
       "      <td>84</td>\n",
       "      <td>October</td>\n",
       "      <td>Thursday</td>\n",
       "      <td>11</td>\n",
       "      <td>2011</td>\n",
       "    </tr>\n",
       "    <tr>\n",
       "      <th>4</th>\n",
       "      <td>6/2/2012 12:00</td>\n",
       "      <td>Summer</td>\n",
       "      <td>0</td>\n",
       "      <td>0</td>\n",
       "      <td>Clear + Few clouds</td>\n",
       "      <td>25.42</td>\n",
       "      <td>31.060</td>\n",
       "      <td>43</td>\n",
       "      <td>23.9994</td>\n",
       "      <td>668</td>\n",
       "      <td>June</td>\n",
       "      <td>Saturday</td>\n",
       "      <td>12</td>\n",
       "      <td>2012</td>\n",
       "    </tr>\n",
       "    <tr>\n",
       "      <th>...</th>\n",
       "      <td>...</td>\n",
       "      <td>...</td>\n",
       "      <td>...</td>\n",
       "      <td>...</td>\n",
       "      <td>...</td>\n",
       "      <td>...</td>\n",
       "      <td>...</td>\n",
       "      <td>...</td>\n",
       "      <td>...</td>\n",
       "      <td>...</td>\n",
       "      <td>...</td>\n",
       "      <td>...</td>\n",
       "      <td>...</td>\n",
       "      <td>...</td>\n",
       "    </tr>\n",
       "    <tr>\n",
       "      <th>2173</th>\n",
       "      <td>3/8/2012 3:00</td>\n",
       "      <td>Spring</td>\n",
       "      <td>0</td>\n",
       "      <td>1</td>\n",
       "      <td>Clear + Few clouds</td>\n",
       "      <td>18.86</td>\n",
       "      <td>22.725</td>\n",
       "      <td>63</td>\n",
       "      <td>26.0027</td>\n",
       "      <td>3</td>\n",
       "      <td>March</td>\n",
       "      <td>Thursday</td>\n",
       "      <td>3</td>\n",
       "      <td>2012</td>\n",
       "    </tr>\n",
       "    <tr>\n",
       "      <th>2174</th>\n",
       "      <td>1/12/2012 12:00</td>\n",
       "      <td>Spring</td>\n",
       "      <td>0</td>\n",
       "      <td>1</td>\n",
       "      <td>Mist + Cloudy</td>\n",
       "      <td>13.94</td>\n",
       "      <td>17.425</td>\n",
       "      <td>81</td>\n",
       "      <td>7.0015</td>\n",
       "      <td>144</td>\n",
       "      <td>January</td>\n",
       "      <td>Thursday</td>\n",
       "      <td>12</td>\n",
       "      <td>2012</td>\n",
       "    </tr>\n",
       "    <tr>\n",
       "      <th>2175</th>\n",
       "      <td>3/7/2012 22:00</td>\n",
       "      <td>Spring</td>\n",
       "      <td>0</td>\n",
       "      <td>1</td>\n",
       "      <td>Clear + Few clouds</td>\n",
       "      <td>18.86</td>\n",
       "      <td>22.725</td>\n",
       "      <td>59</td>\n",
       "      <td>19.9995</td>\n",
       "      <td>159</td>\n",
       "      <td>March</td>\n",
       "      <td>Wednesday</td>\n",
       "      <td>22</td>\n",
       "      <td>2012</td>\n",
       "    </tr>\n",
       "    <tr>\n",
       "      <th>2176</th>\n",
       "      <td>5/12/2011 5:00</td>\n",
       "      <td>Summer</td>\n",
       "      <td>0</td>\n",
       "      <td>1</td>\n",
       "      <td>Clear + Few clouds</td>\n",
       "      <td>17.22</td>\n",
       "      <td>21.210</td>\n",
       "      <td>94</td>\n",
       "      <td>8.9981</td>\n",
       "      <td>29</td>\n",
       "      <td>May</td>\n",
       "      <td>Thursday</td>\n",
       "      <td>5</td>\n",
       "      <td>2011</td>\n",
       "    </tr>\n",
       "    <tr>\n",
       "      <th>2177</th>\n",
       "      <td>7/18/2012 16:00</td>\n",
       "      <td>Fall</td>\n",
       "      <td>0</td>\n",
       "      <td>1</td>\n",
       "      <td>Clear + Few clouds</td>\n",
       "      <td>30.34</td>\n",
       "      <td>34.850</td>\n",
       "      <td>66</td>\n",
       "      <td>16.9979</td>\n",
       "      <td>224</td>\n",
       "      <td>July</td>\n",
       "      <td>Wednesday</td>\n",
       "      <td>16</td>\n",
       "      <td>2012</td>\n",
       "    </tr>\n",
       "  </tbody>\n",
       "</table>\n",
       "<p>2178 rows × 14 columns</p>\n",
       "</div>"
      ],
      "text/plain": [
       "              datetime  season  holiday  ...    weekday hour  date\n",
       "0      5/10/2012 11:00  Summer        0  ...   Thursday   11  2012\n",
       "1        6/9/2012 7:00  Summer        0  ...   Saturday    7  2012\n",
       "2       3/6/2011 20:00  Spring        0  ...     Sunday   20  2011\n",
       "3     10/13/2011 11:00  Winter        0  ...   Thursday   11  2011\n",
       "4       6/2/2012 12:00  Summer        0  ...   Saturday   12  2012\n",
       "...                ...     ...      ...  ...        ...  ...   ...\n",
       "2173     3/8/2012 3:00  Spring        0  ...   Thursday    3  2012\n",
       "2174   1/12/2012 12:00  Spring        0  ...   Thursday   12  2012\n",
       "2175    3/7/2012 22:00  Spring        0  ...  Wednesday   22  2012\n",
       "2176    5/12/2011 5:00  Summer        0  ...   Thursday    5  2011\n",
       "2177   7/18/2012 16:00    Fall        0  ...  Wednesday   16  2012\n",
       "\n",
       "[2178 rows x 14 columns]"
      ]
     },
     "execution_count": 523,
     "metadata": {},
     "output_type": "execute_result"
    }
   ],
   "source": [
    "##Create new columns date, hour,weekDay,monthfrom datetimecolumn\n",
    "df2['month'] = pd.to_datetime(df2.datetime, format='%m/%d/%Y %H:%M').dt.month_name()\n",
    "\n",
    "df2['weekday'] = pd.to_datetime(df2.datetime, format='%m/%d/%Y %H:%M').dt.day_name()\n",
    "\n",
    "df2['hour'] = pd.DatetimeIndex(df2['datetime']).hour\n",
    "df2['date'] = pd.DatetimeIndex(df2['datetime']).year\n",
    "\n",
    "df2"
   ]
  },
  {
   "cell_type": "code",
   "execution_count": 524,
   "metadata": {
    "colab": {
     "base_uri": "https://localhost:8080/",
     "height": 203
    },
    "id": "IqWuMrYvy_I4",
    "outputId": "1f94b5e4-1087-4edf-930c-3f5592172cba"
   },
   "outputs": [
    {
     "data": {
      "text/html": [
       "<div>\n",
       "<style scoped>\n",
       "    .dataframe tbody tr th:only-of-type {\n",
       "        vertical-align: middle;\n",
       "    }\n",
       "\n",
       "    .dataframe tbody tr th {\n",
       "        vertical-align: top;\n",
       "    }\n",
       "\n",
       "    .dataframe thead th {\n",
       "        text-align: right;\n",
       "    }\n",
       "</style>\n",
       "<table border=\"1\" class=\"dataframe\">\n",
       "  <thead>\n",
       "    <tr style=\"text-align: right;\">\n",
       "      <th></th>\n",
       "      <th>datetime</th>\n",
       "      <th>season</th>\n",
       "      <th>holiday</th>\n",
       "      <th>workingday</th>\n",
       "      <th>weather</th>\n",
       "      <th>temp</th>\n",
       "      <th>atemp</th>\n",
       "      <th>humidity</th>\n",
       "      <th>windspeed</th>\n",
       "      <th>labels</th>\n",
       "      <th>month</th>\n",
       "      <th>weekday</th>\n",
       "      <th>hour</th>\n",
       "      <th>date</th>\n",
       "    </tr>\n",
       "  </thead>\n",
       "  <tbody>\n",
       "    <tr>\n",
       "      <th>0</th>\n",
       "      <td>5/2/2012 19:00</td>\n",
       "      <td>Summer</td>\n",
       "      <td>0</td>\n",
       "      <td>1</td>\n",
       "      <td>Clear + Few clouds</td>\n",
       "      <td>22.14</td>\n",
       "      <td>25.760</td>\n",
       "      <td>77</td>\n",
       "      <td>16.9979</td>\n",
       "      <td>504</td>\n",
       "      <td>May</td>\n",
       "      <td>Wednesday</td>\n",
       "      <td>19</td>\n",
       "      <td>2012</td>\n",
       "    </tr>\n",
       "    <tr>\n",
       "      <th>1</th>\n",
       "      <td>9/5/2012 4:00</td>\n",
       "      <td>Fall</td>\n",
       "      <td>0</td>\n",
       "      <td>1</td>\n",
       "      <td>Clear + Few clouds</td>\n",
       "      <td>28.70</td>\n",
       "      <td>33.335</td>\n",
       "      <td>79</td>\n",
       "      <td>19.0012</td>\n",
       "      <td>5</td>\n",
       "      <td>September</td>\n",
       "      <td>Wednesday</td>\n",
       "      <td>4</td>\n",
       "      <td>2012</td>\n",
       "    </tr>\n",
       "    <tr>\n",
       "      <th>2</th>\n",
       "      <td>1/13/2011 9:00</td>\n",
       "      <td>Spring</td>\n",
       "      <td>0</td>\n",
       "      <td>1</td>\n",
       "      <td>Clear + Few clouds</td>\n",
       "      <td>5.74</td>\n",
       "      <td>6.060</td>\n",
       "      <td>50</td>\n",
       "      <td>22.0028</td>\n",
       "      <td>139</td>\n",
       "      <td>January</td>\n",
       "      <td>Thursday</td>\n",
       "      <td>9</td>\n",
       "      <td>2011</td>\n",
       "    </tr>\n",
       "    <tr>\n",
       "      <th>3</th>\n",
       "      <td>11/18/2011 16:00</td>\n",
       "      <td>Winter</td>\n",
       "      <td>0</td>\n",
       "      <td>1</td>\n",
       "      <td>Clear + Few clouds</td>\n",
       "      <td>13.94</td>\n",
       "      <td>16.665</td>\n",
       "      <td>29</td>\n",
       "      <td>8.9981</td>\n",
       "      <td>209</td>\n",
       "      <td>November</td>\n",
       "      <td>Friday</td>\n",
       "      <td>16</td>\n",
       "      <td>2011</td>\n",
       "    </tr>\n",
       "    <tr>\n",
       "      <th>4</th>\n",
       "      <td>9/13/2011 13:00</td>\n",
       "      <td>Fall</td>\n",
       "      <td>0</td>\n",
       "      <td>1</td>\n",
       "      <td>Clear + Few clouds</td>\n",
       "      <td>30.34</td>\n",
       "      <td>33.335</td>\n",
       "      <td>51</td>\n",
       "      <td>19.0012</td>\n",
       "      <td>184</td>\n",
       "      <td>September</td>\n",
       "      <td>Tuesday</td>\n",
       "      <td>13</td>\n",
       "      <td>2011</td>\n",
       "    </tr>\n",
       "  </tbody>\n",
       "</table>\n",
       "</div>"
      ],
      "text/plain": [
       "           datetime  season  holiday  ...    weekday hour  date\n",
       "0    5/2/2012 19:00  Summer        0  ...  Wednesday   19  2012\n",
       "1     9/5/2012 4:00    Fall        0  ...  Wednesday    4  2012\n",
       "2    1/13/2011 9:00  Spring        0  ...   Thursday    9  2011\n",
       "3  11/18/2011 16:00  Winter        0  ...     Friday   16  2011\n",
       "4   9/13/2011 13:00    Fall        0  ...    Tuesday   13  2011\n",
       "\n",
       "[5 rows x 14 columns]"
      ]
     },
     "execution_count": 524,
     "metadata": {},
     "output_type": "execute_result"
    }
   ],
   "source": [
    "df1.head()"
   ]
  },
  {
   "cell_type": "code",
   "execution_count": 525,
   "metadata": {
    "id": "SBoSRkFAzM7N"
   },
   "outputs": [],
   "source": [
    "df1['season'] = df1['season'].astype('category')###Coerce the datatype of season,holiday,workingday,and weatherto category"
   ]
  },
  {
   "cell_type": "code",
   "execution_count": 526,
   "metadata": {
    "colab": {
     "base_uri": "https://localhost:8080/"
    },
    "id": "7_THWWxU32ZK",
    "outputId": "48ba5748-6de3-441b-8b82-3159fe69ebd2"
   },
   "outputs": [
    {
     "name": "stdout",
     "output_type": "stream",
     "text": [
      "<class 'pandas.core.frame.DataFrame'>\n",
      "RangeIndex: 8708 entries, 0 to 8707\n",
      "Data columns (total 14 columns):\n",
      " #   Column      Non-Null Count  Dtype   \n",
      "---  ------      --------------  -----   \n",
      " 0   datetime    8708 non-null   object  \n",
      " 1   season      8708 non-null   category\n",
      " 2   holiday     8708 non-null   int64   \n",
      " 3   workingday  8708 non-null   int64   \n",
      " 4   weather     8708 non-null   object  \n",
      " 5   temp        8708 non-null   float64 \n",
      " 6   atemp       8708 non-null   float64 \n",
      " 7   humidity    8708 non-null   int64   \n",
      " 8   windspeed   8708 non-null   float64 \n",
      " 9   labels      8708 non-null   int64   \n",
      " 10  month       8708 non-null   object  \n",
      " 11  weekday     8708 non-null   object  \n",
      " 12  hour        8708 non-null   int64   \n",
      " 13  date        8708 non-null   int64   \n",
      "dtypes: category(1), float64(3), int64(6), object(4)\n",
      "memory usage: 893.2+ KB\n"
     ]
    }
   ],
   "source": [
    "df1.info()"
   ]
  },
  {
   "cell_type": "code",
   "execution_count": 527,
   "metadata": {
    "id": "ur8LK5EB5x6G"
   },
   "outputs": [],
   "source": [
    "df2[['season','holiday','workingday','weather']] =df2[['season','holiday','workingday','weather']].astype('category')###Coerce the datatype of season,holiday,workingday,and weatherto category"
   ]
  },
  {
   "cell_type": "code",
   "execution_count": 528,
   "metadata": {
    "id": "z4NcQmG437v2"
   },
   "outputs": [],
   "source": [
    "df1[['holiday','workingday','weather']] =df1[['holiday','workingday','weather']].astype('category')##oerce the datatype of season,holiday,workingday,and weatherto category"
   ]
  },
  {
   "cell_type": "code",
   "execution_count": 529,
   "metadata": {
    "colab": {
     "base_uri": "https://localhost:8080/"
    },
    "id": "cfW70DsQjbf_",
    "outputId": "11996508-7568-4802-d888-9eb5802ee739"
   },
   "outputs": [
    {
     "name": "stdout",
     "output_type": "stream",
     "text": [
      "<class 'pandas.core.frame.DataFrame'>\n",
      "RangeIndex: 2178 entries, 0 to 2177\n",
      "Data columns (total 14 columns):\n",
      " #   Column      Non-Null Count  Dtype   \n",
      "---  ------      --------------  -----   \n",
      " 0   datetime    2178 non-null   object  \n",
      " 1   season      2178 non-null   category\n",
      " 2   holiday     2178 non-null   category\n",
      " 3   workingday  2178 non-null   category\n",
      " 4   weather     2178 non-null   category\n",
      " 5   temp        2178 non-null   float64 \n",
      " 6   atemp       2178 non-null   float64 \n",
      " 7   humidity    2178 non-null   int64   \n",
      " 8   windspeed   2178 non-null   float64 \n",
      " 9   labels      2178 non-null   int64   \n",
      " 10  month       2178 non-null   object  \n",
      " 11  weekday     2178 non-null   object  \n",
      " 12  hour        2178 non-null   int64   \n",
      " 13  date        2178 non-null   int64   \n",
      "dtypes: category(4), float64(3), int64(4), object(3)\n",
      "memory usage: 179.3+ KB\n"
     ]
    }
   ],
   "source": [
    "df2.info()"
   ]
  },
  {
   "cell_type": "code",
   "execution_count": 530,
   "metadata": {
    "colab": {
     "base_uri": "https://localhost:8080/"
    },
    "id": "z55NzW-d5zHr",
    "outputId": "b0bf7aba-cb02-448f-bc90-d50336b24424"
   },
   "outputs": [
    {
     "name": "stdout",
     "output_type": "stream",
     "text": [
      "<class 'pandas.core.frame.DataFrame'>\n",
      "RangeIndex: 8708 entries, 0 to 8707\n",
      "Data columns (total 14 columns):\n",
      " #   Column      Non-Null Count  Dtype   \n",
      "---  ------      --------------  -----   \n",
      " 0   datetime    8708 non-null   object  \n",
      " 1   season      8708 non-null   category\n",
      " 2   holiday     8708 non-null   category\n",
      " 3   workingday  8708 non-null   category\n",
      " 4   weather     8708 non-null   category\n",
      " 5   temp        8708 non-null   float64 \n",
      " 6   atemp       8708 non-null   float64 \n",
      " 7   humidity    8708 non-null   int64   \n",
      " 8   windspeed   8708 non-null   float64 \n",
      " 9   labels      8708 non-null   int64   \n",
      " 10  month       8708 non-null   object  \n",
      " 11  weekday     8708 non-null   object  \n",
      " 12  hour        8708 non-null   int64   \n",
      " 13  date        8708 non-null   int64   \n",
      "dtypes: category(4), float64(3), int64(4), object(3)\n",
      "memory usage: 715.0+ KB\n"
     ]
    }
   ],
   "source": [
    "df1.info()"
   ]
  },
  {
   "cell_type": "code",
   "execution_count": 531,
   "metadata": {
    "id": "xPy_Yblk52Yd"
   },
   "outputs": [],
   "source": [
    "df1 =df1.drop('datetime' ,axis =1)####Drop the datetimecolumn as we have already extracted useful features from i"
   ]
  },
  {
   "cell_type": "code",
   "execution_count": 532,
   "metadata": {
    "id": "BkKskYhmiEKJ"
   },
   "outputs": [],
   "source": [
    "df2 =df2.drop('datetime' ,axis =1)#####Drop the datetimecolumn as we have already extracted useful features from i"
   ]
  },
  {
   "cell_type": "code",
   "execution_count": 533,
   "metadata": {
    "colab": {
     "base_uri": "https://localhost:8080/",
     "height": 203
    },
    "id": "JMefnaxQ7pQ-",
    "outputId": "a0924b9d-6ffd-465a-9f2a-09b742998a6b"
   },
   "outputs": [
    {
     "data": {
      "text/html": [
       "<div>\n",
       "<style scoped>\n",
       "    .dataframe tbody tr th:only-of-type {\n",
       "        vertical-align: middle;\n",
       "    }\n",
       "\n",
       "    .dataframe tbody tr th {\n",
       "        vertical-align: top;\n",
       "    }\n",
       "\n",
       "    .dataframe thead th {\n",
       "        text-align: right;\n",
       "    }\n",
       "</style>\n",
       "<table border=\"1\" class=\"dataframe\">\n",
       "  <thead>\n",
       "    <tr style=\"text-align: right;\">\n",
       "      <th></th>\n",
       "      <th>season</th>\n",
       "      <th>holiday</th>\n",
       "      <th>workingday</th>\n",
       "      <th>weather</th>\n",
       "      <th>temp</th>\n",
       "      <th>atemp</th>\n",
       "      <th>humidity</th>\n",
       "      <th>windspeed</th>\n",
       "      <th>labels</th>\n",
       "      <th>month</th>\n",
       "      <th>weekday</th>\n",
       "      <th>hour</th>\n",
       "      <th>date</th>\n",
       "    </tr>\n",
       "  </thead>\n",
       "  <tbody>\n",
       "    <tr>\n",
       "      <th>0</th>\n",
       "      <td>Summer</td>\n",
       "      <td>0</td>\n",
       "      <td>1</td>\n",
       "      <td>Clear + Few clouds</td>\n",
       "      <td>22.14</td>\n",
       "      <td>25.760</td>\n",
       "      <td>77</td>\n",
       "      <td>16.9979</td>\n",
       "      <td>504</td>\n",
       "      <td>May</td>\n",
       "      <td>Wednesday</td>\n",
       "      <td>19</td>\n",
       "      <td>2012</td>\n",
       "    </tr>\n",
       "    <tr>\n",
       "      <th>1</th>\n",
       "      <td>Fall</td>\n",
       "      <td>0</td>\n",
       "      <td>1</td>\n",
       "      <td>Clear + Few clouds</td>\n",
       "      <td>28.70</td>\n",
       "      <td>33.335</td>\n",
       "      <td>79</td>\n",
       "      <td>19.0012</td>\n",
       "      <td>5</td>\n",
       "      <td>September</td>\n",
       "      <td>Wednesday</td>\n",
       "      <td>4</td>\n",
       "      <td>2012</td>\n",
       "    </tr>\n",
       "    <tr>\n",
       "      <th>2</th>\n",
       "      <td>Spring</td>\n",
       "      <td>0</td>\n",
       "      <td>1</td>\n",
       "      <td>Clear + Few clouds</td>\n",
       "      <td>5.74</td>\n",
       "      <td>6.060</td>\n",
       "      <td>50</td>\n",
       "      <td>22.0028</td>\n",
       "      <td>139</td>\n",
       "      <td>January</td>\n",
       "      <td>Thursday</td>\n",
       "      <td>9</td>\n",
       "      <td>2011</td>\n",
       "    </tr>\n",
       "    <tr>\n",
       "      <th>3</th>\n",
       "      <td>Winter</td>\n",
       "      <td>0</td>\n",
       "      <td>1</td>\n",
       "      <td>Clear + Few clouds</td>\n",
       "      <td>13.94</td>\n",
       "      <td>16.665</td>\n",
       "      <td>29</td>\n",
       "      <td>8.9981</td>\n",
       "      <td>209</td>\n",
       "      <td>November</td>\n",
       "      <td>Friday</td>\n",
       "      <td>16</td>\n",
       "      <td>2011</td>\n",
       "    </tr>\n",
       "    <tr>\n",
       "      <th>4</th>\n",
       "      <td>Fall</td>\n",
       "      <td>0</td>\n",
       "      <td>1</td>\n",
       "      <td>Clear + Few clouds</td>\n",
       "      <td>30.34</td>\n",
       "      <td>33.335</td>\n",
       "      <td>51</td>\n",
       "      <td>19.0012</td>\n",
       "      <td>184</td>\n",
       "      <td>September</td>\n",
       "      <td>Tuesday</td>\n",
       "      <td>13</td>\n",
       "      <td>2011</td>\n",
       "    </tr>\n",
       "  </tbody>\n",
       "</table>\n",
       "</div>"
      ],
      "text/plain": [
       "   season holiday workingday  ...    weekday  hour  date\n",
       "0  Summer       0          1  ...  Wednesday    19  2012\n",
       "1    Fall       0          1  ...  Wednesday     4  2012\n",
       "2  Spring       0          1  ...   Thursday     9  2011\n",
       "3  Winter       0          1  ...     Friday    16  2011\n",
       "4    Fall       0          1  ...    Tuesday    13  2011\n",
       "\n",
       "[5 rows x 13 columns]"
      ]
     },
     "execution_count": 533,
     "metadata": {},
     "output_type": "execute_result"
    }
   ],
   "source": [
    "df1.head()"
   ]
  },
  {
   "cell_type": "code",
   "execution_count": 534,
   "metadata": {
    "colab": {
     "base_uri": "https://localhost:8080/"
    },
    "id": "c9J3w-ep7r0g",
    "outputId": "0db14087-0190-4a37-e7ca-44ea1ebb727c"
   },
   "outputs": [
    {
     "name": "stdout",
     "output_type": "stream",
     "text": [
      "<class 'pandas.core.frame.DataFrame'>\n",
      "RangeIndex: 8708 entries, 0 to 8707\n",
      "Data columns (total 13 columns):\n",
      " #   Column      Non-Null Count  Dtype   \n",
      "---  ------      --------------  -----   \n",
      " 0   season      8708 non-null   category\n",
      " 1   holiday     8708 non-null   category\n",
      " 2   workingday  8708 non-null   category\n",
      " 3   weather     8708 non-null   category\n",
      " 4   temp        8708 non-null   float64 \n",
      " 5   atemp       8708 non-null   float64 \n",
      " 6   humidity    8708 non-null   int64   \n",
      " 7   windspeed   8708 non-null   float64 \n",
      " 8   labels      8708 non-null   int64   \n",
      " 9   month       8708 non-null   object  \n",
      " 10  weekday     8708 non-null   object  \n",
      " 11  hour        8708 non-null   int64   \n",
      " 12  date        8708 non-null   int64   \n",
      "dtypes: category(4), float64(3), int64(4), object(2)\n",
      "memory usage: 647.0+ KB\n"
     ]
    }
   ],
   "source": [
    "df1.info()"
   ]
  },
  {
   "cell_type": "code",
   "execution_count": 535,
   "metadata": {
    "colab": {
     "base_uri": "https://localhost:8080/",
     "height": 529
    },
    "id": "r9d75hdQ8RCB",
    "outputId": "0f787476-ce20-49cc-9376-4838fe47f9a3"
   },
   "outputs": [
    {
     "data": {
      "text/plain": [
       "<matplotlib.axes._subplots.AxesSubplot at 0x7f5e119fdb10>"
      ]
     },
     "execution_count": 535,
     "metadata": {},
     "output_type": "execute_result"
    },
    {
     "data": {
      "image/png": "[encoded data removed]",
      "text/plain": [
       "<Figure size 864x576 with 1 Axes>"
      ]
     },
     "metadata": {},
     "output_type": "display_data"
    }
   ],
   "source": [
    "####Plot Box plotsacross various features like season, hour of the day, working_day,etc OUTLIER ANALYSIS\n",
    "##INFERENCE THERE ARE OUTLIERS PRESENT FOR THE WINDSPEED IN THE RANGE OF 30 TO 50\n",
    "import seaborn as sns\n",
    "sns.boxplot(x=df1['windspeed'])"
   ]
  },
  {
   "cell_type": "code",
   "execution_count": 536,
   "metadata": {
    "colab": {
     "base_uri": "https://localhost:8080/",
     "height": 529
    },
    "id": "Yusp0sl788hj",
    "outputId": "25b39f79-e31e-4a76-b91c-a7e5bf73570d"
   },
   "outputs": [
    {
     "data": {
      "text/plain": [
       "<matplotlib.axes._subplots.AxesSubplot at 0x7f5e119ff250>"
      ]
     },
     "execution_count": 536,
     "metadata": {},
     "output_type": "execute_result"
    },
    {
     "data": {
      "image/png": "[encoded data removed]",
      "text/plain": [
       "<Figure size 864x576 with 1 Axes>"
      ]
     },
     "metadata": {},
     "output_type": "display_data"
    }
   ],
   "source": [
    "####Plot Box plotsacross various features like season, hour of the day, working_day,etc OUTLIER ANALYSIS\n",
    "###THERE ARE OUTLIER PRESENT FOR THE COLUMN HUMIDITY \n",
    "import seaborn as sns\n",
    "sns.boxplot(x=df1['humidity'])\n"
   ]
  },
  {
   "cell_type": "code",
   "execution_count": 538,
   "metadata": {
    "colab": {
     "base_uri": "https://localhost:8080/",
     "height": 512
    },
    "id": "rpP7onQI9ERg",
    "outputId": "fb0ff41e-9978-4573-db1b-be6ea246d6ec"
   },
   "outputs": [
    {
     "data": {
      "image/png": "[encoded data removed]",
      "text/plain": [
       "<Figure size 1152x576 with 1 Axes>"
      ]
     },
     "metadata": {},
     "output_type": "display_data"
    }
   ],
   "source": [
    "####Plot Box plotsacross various features like season, hour of the day, working_day,etc OUTLIER ANALYSIS\n",
    "import matplotlib.pyplot as plt\n",
    "import matplotlib\n",
    "fig, ax = plt.subplots(figsize=(16,8))\n",
    "ax.scatter(df1['windspeed'], df1['labels'])\n",
    "ax.set_xlabel('Wind Speed')\n",
    "ax.set_ylabel('labels')\n",
    "plt.show()"
   ]
  },
  {
   "cell_type": "code",
   "execution_count": 539,
   "metadata": {
    "colab": {
     "base_uri": "https://localhost:8080/"
    },
    "id": "6HoK29fs9Xea",
    "outputId": "8de14dfb-6e45-4d95-f97f-0e6bc3e33fbc"
   },
   "outputs": [
    {
     "name": "stdout",
     "output_type": "stream",
     "text": [
      "[[0.50721471 0.24279646 0.24756413 0.79958574 1.71306563]\n",
      " [0.75182255 1.08241785 1.13867577 0.90376068 1.03561284]\n",
      " [1.11832527 1.85625701 2.06991433 0.60677596 0.29749077]\n",
      " ...\n",
      " [0.46958048 0.45270181 0.42578646 0.29425114 1.05764634]\n",
      " [0.50721471 1.12158829 1.17880269 0.03381379 0.55638433]\n",
      " [0.87371743 1.85625701 2.06991433 0.60677596 0.89239513]]\n"
     ]
    }
   ],
   "source": [
    "### REMOVING THE OUTLIERS FOR THE COLUMN TEMP,ATEMP,HUMIDITY,LABELS USING THE Z-SCORE METHOD\n",
    "from scipy import stats\n",
    "import numpy as np\n",
    "z = np.abs(stats.zscore(df1[['windspeed','temp','atemp','humidity','labels']]))\n",
    "print(z)"
   ]
  },
  {
   "cell_type": "code",
   "execution_count": 540,
   "metadata": {
    "colab": {
     "base_uri": "https://localhost:8080/"
    },
    "id": "zeIlIUAm9iOf",
    "outputId": "5cffc0b3-443f-4ac6-b158-3f6008e827a7"
   },
   "outputs": [
    {
     "name": "stdout",
     "output_type": "stream",
     "text": [
      "(array([   5,   27,   30,   52,  156,  257,  279,  288,  325,  343,  510,\n",
      "        566,  575,  687,  750,  762,  838,  891,  946,  956,  970,  971,\n",
      "       1008, 1162, 1200, 1243, 1312, 1336, 1357, 1375, 1413, 1446, 1489,\n",
      "       1561, 1591, 1601, 1675, 1799, 1878, 1894, 1952, 2023, 2065, 2085,\n",
      "       2116, 2120, 2126, 2184, 2193, 2357, 2386, 2444, 2491, 2550, 2637,\n",
      "       2663, 2771, 2793, 2800, 2811, 2825, 2878, 2883, 2963, 2976, 3048,\n",
      "       3055, 3080, 3099, 3101, 3226, 3250, 3304, 3338, 3351, 3374, 3389,\n",
      "       3441, 3523, 3548, 3595, 3599, 3646, 3733, 3799, 3799, 3816, 3907,\n",
      "       3915, 3948, 4018, 4148, 4191, 4202, 4211, 4246, 4369, 4417, 4489,\n",
      "       4604, 4764, 4765, 4766, 4773, 4798, 4841, 4853, 4887, 4888, 4956,\n",
      "       4980, 5017, 5065, 5125, 5152, 5167, 5247, 5265, 5316, 5359, 5362,\n",
      "       5410, 5485, 5502, 5531, 5603, 5634, 5651, 5665, 5685, 5703, 5731,\n",
      "       5862, 5888, 5890, 6009, 6070, 6080, 6143, 6311, 6314, 6347, 6350,\n",
      "       6401, 6428, 6433, 6583, 6603, 6609, 6610, 6629, 6631, 6647, 6649,\n",
      "       6698, 6719, 6757, 6768, 6839, 6851, 6977, 6984, 7065, 7087, 7157,\n",
      "       7423, 7617, 7837, 7842, 7977, 7978, 8011, 8111, 8242, 8299, 8394,\n",
      "       8399, 8410, 8428, 8429, 8640, 8681, 8695]), array([4, 4, 4, 4, 4, 4, 0, 0, 4, 4, 4, 4, 0, 0, 3, 0, 0, 4, 0, 4, 0, 0,\n",
      "       4, 4, 4, 4, 4, 4, 0, 4, 4, 0, 0, 4, 4, 4, 4, 4, 4, 4, 4, 4, 0, 4,\n",
      "       4, 3, 4, 0, 3, 3, 3, 3, 4, 4, 4, 4, 4, 4, 0, 4, 0, 4, 4, 4, 4, 4,\n",
      "       4, 4, 4, 4, 4, 3, 3, 0, 3, 0, 0, 4, 4, 4, 0, 0, 4, 4, 0, 3, 4, 0,\n",
      "       0, 0, 4, 4, 4, 0, 4, 3, 0, 4, 0, 3, 4, 4, 4, 4, 4, 4, 4, 0, 3, 4,\n",
      "       4, 4, 0, 0, 4, 4, 4, 4, 4, 0, 4, 3, 0, 0, 0, 3, 4, 4, 4, 4, 0, 4,\n",
      "       4, 4, 4, 4, 4, 0, 0, 4, 4, 4, 4, 4, 4, 4, 4, 4, 0, 4, 4, 4, 4, 4,\n",
      "       4, 0, 4, 0, 4, 3, 4, 0, 0, 0, 4, 4, 0, 4, 4, 4, 4, 3, 4, 4, 4, 0,\n",
      "       0, 4, 3, 4, 0, 4, 4]))\n"
     ]
    }
   ],
   "source": [
    "threshold = 3\n",
    "print(np.where(z > 3))"
   ]
  },
  {
   "cell_type": "code",
   "execution_count": 541,
   "metadata": {
    "colab": {
     "base_uri": "https://localhost:8080/"
    },
    "id": "9BjzcWSF9nnf",
    "outputId": "8ea6402e-f374-417e-e9b6-53dfbe19b111"
   },
   "outputs": [
    {
     "name": "stdout",
     "output_type": "stream",
     "text": [
      "Before removing outliers: (8708, 13)\n",
      "after removing outliers: (8526, 13)\n"
     ]
    }
   ],
   "source": [
    "### REMOVING THE OUTLIERS\n",
    "df11 = df1[(z < 3).all(axis=1)]\n",
    "print(\"Before removing outliers:\",df1.shape)\n",
    "print(\"after removing outliers:\",df11.shape)\n",
    "\n"
   ]
  },
  {
   "cell_type": "code",
   "execution_count": 542,
   "metadata": {
    "colab": {
     "base_uri": "https://localhost:8080/"
    },
    "id": "oqREeDpX9uX2",
    "outputId": "ef18d064-6ef7-4e21-e7a4-563a00457f95"
   },
   "outputs": [
    {
     "name": "stdout",
     "output_type": "stream",
     "text": [
      "<class 'pandas.core.frame.DataFrame'>\n",
      "Int64Index: 8526 entries, 0 to 8707\n",
      "Data columns (total 13 columns):\n",
      " #   Column      Non-Null Count  Dtype   \n",
      "---  ------      --------------  -----   \n",
      " 0   season      8526 non-null   category\n",
      " 1   holiday     8526 non-null   category\n",
      " 2   workingday  8526 non-null   category\n",
      " 3   weather     8526 non-null   category\n",
      " 4   temp        8526 non-null   float64 \n",
      " 5   atemp       8526 non-null   float64 \n",
      " 6   humidity    8526 non-null   int64   \n",
      " 7   windspeed   8526 non-null   float64 \n",
      " 8   labels      8526 non-null   int64   \n",
      " 9   month       8526 non-null   object  \n",
      " 10  weekday     8526 non-null   object  \n",
      " 11  hour        8526 non-null   int64   \n",
      " 12  date        8526 non-null   int64   \n",
      "dtypes: category(4), float64(3), int64(4), object(2)\n",
      "memory usage: 700.0+ KB\n"
     ]
    }
   ],
   "source": [
    "df11.info()"
   ]
  },
  {
   "cell_type": "code",
   "execution_count": 543,
   "metadata": {
    "colab": {
     "base_uri": "https://localhost:8080/",
     "height": 513
    },
    "id": "4VRNqGCppns-",
    "outputId": "e1cbc9f1-fa2b-4a38-c09b-ff48d7ae1041"
   },
   "outputs": [
    {
     "data": {
      "text/plain": [
       "<matplotlib.axes._subplots.AxesSubplot at 0x7f5e10d5bd50>"
      ]
     },
     "execution_count": 543,
     "metadata": {},
     "output_type": "execute_result"
    },
    {
     "data": {
      "image/png": "[encoded data removed]",
      "text/plain": [
       "<Figure size 864x576 with 2 Axes>"
      ]
     },
     "metadata": {},
     "output_type": "display_data"
    }
   ],
   "source": [
    "###Plot a correlation plot between \"total booking\" and [\"temp\",\"atemp\",\"humidity\",\"windspeed\"]\n",
    "###inference ) temp and humidity features has got positive and negative correlation with Total_booking respectively.\n",
    "## Although the correlation between them are not very prominent still the Total_booking variable has got little dependency on \"temp\" and \"humidity\".\n",
    " ###windspeed is not gonna be really useful numerical feature and it is visible from it correlation value with \"Total_booking\"\n",
    "###\"atemp\" is variable is not taken into since \"atemp\" and \"temp\" has got strong correlation with each other. During model building any one of the variable has to be dropped since they will exhibit multicollinearity in the data.\n",
    "import seaborn as sns\n",
    "\n",
    "plt.rcParams['figure.figsize'] =(12,8)\n",
    "sns.set(font_scale=1.4)\n",
    "sns.heatmap(df11.corr(), cmap ='coolwarm')"
   ]
  },
  {
   "cell_type": "code",
   "execution_count": 544,
   "metadata": {
    "colab": {
     "base_uri": "https://localhost:8080/",
     "height": 529
    },
    "id": "4gdKFZU696y-",
    "outputId": "72cd5c1f-0994-4b39-ef33-21deb5930e36"
   },
   "outputs": [
    {
     "data": {
      "text/plain": [
       "<matplotlib.axes._subplots.AxesSubplot at 0x7f5e10d06790>"
      ]
     },
     "execution_count": 544,
     "metadata": {},
     "output_type": "execute_result"
    },
    {
     "data": {
      "image/png": "[encoded data removed]",
      "text/plain": [
       "<Figure size 864x576 with 1 Axes>"
      ]
     },
     "metadata": {},
     "output_type": "display_data"
    }
   ],
   "source": [
    "###isualize total_booking vs (Month, Season, Hour, Weekday, Usertype)\n",
    "import seaborn as sns\n",
    "sns.histplot(data = df11 , x=\"labels\")"
   ]
  },
  {
   "cell_type": "code",
   "execution_count": 545,
   "metadata": {
    "colab": {
     "base_uri": "https://localhost:8080/",
     "height": 529
    },
    "id": "25DiSifCZiSA",
    "outputId": "5d4c87a5-bc6c-4d0e-dba4-015c579ba018"
   },
   "outputs": [
    {
     "data": {
      "text/plain": [
       "<matplotlib.axes._subplots.AxesSubplot at 0x7f5e10ce46d0>"
      ]
     },
     "execution_count": 545,
     "metadata": {},
     "output_type": "execute_result"
    },
    {
     "data": {
      "image/png": "[encoded data removed]",
      "text/plain": [
       "<Figure size 864x576 with 1 Axes>"
      ]
     },
     "metadata": {},
     "output_type": "display_data"
    }
   ],
   "source": [
    "##Histogramsto plot all the continuousvariables present in the data\n",
    "sns.histplot(data = df11 , x =\"labels\" , hue = \"season\")"
   ]
  },
  {
   "cell_type": "code",
   "execution_count": 546,
   "metadata": {
    "colab": {
     "base_uri": "https://localhost:8080/",
     "height": 529
    },
    "id": "02VQfwlzZoWH",
    "outputId": "5af30798-1589-4504-ef7a-3c0914d3f8e4"
   },
   "outputs": [
    {
     "data": {
      "text/plain": [
       "<matplotlib.axes._subplots.AxesSubplot at 0x7f5e10c99b10>"
      ]
     },
     "execution_count": 546,
     "metadata": {},
     "output_type": "execute_result"
    },
    {
     "data": {
      "image/png": "[encoded data removed]",
      "text/plain": [
       "<Figure size 864x576 with 1 Axes>"
      ]
     },
     "metadata": {},
     "output_type": "display_data"
    }
   ],
   "source": [
    "##Histogramsto plot all the continuousvariables present in the data\n",
    "sns.histplot(data = df11 , x =\"labels\" , hue = \"weather\")"
   ]
  },
  {
   "cell_type": "code",
   "execution_count": 547,
   "metadata": {
    "colab": {
     "base_uri": "https://localhost:8080/",
     "height": 529
    },
    "id": "7ayRWGILZy9T",
    "outputId": "a578b3f7-c49d-414e-f3f0-d98f462b38df"
   },
   "outputs": [
    {
     "data": {
      "text/plain": [
       "<matplotlib.axes._subplots.AxesSubplot at 0x7f5e10a8c750>"
      ]
     },
     "execution_count": 547,
     "metadata": {},
     "output_type": "execute_result"
    },
    {
     "data": {
      "image/png": "[encoded data removed]",
      "text/plain": [
       "<Figure size 864x576 with 1 Axes>"
      ]
     },
     "metadata": {},
     "output_type": "display_data"
    }
   ],
   "source": [
    "###Histogramsto plot all the continuousvariables present in the data\n",
    "sns.histplot(data = df11 , x =\"labels\" , hue = \"workingday\")"
   ]
  },
  {
   "cell_type": "code",
   "execution_count": 548,
   "metadata": {
    "colab": {
     "base_uri": "https://localhost:8080/",
     "height": 535
    },
    "id": "PolUeWtJZ2xn",
    "outputId": "a5172d9a-97af-48b5-dc31-54ad6cd7fb40"
   },
   "outputs": [
    {
     "data": {
      "text/plain": [
       "<matplotlib.axes._subplots.AxesSubplot at 0x7f5e10771490>"
      ]
     },
     "execution_count": 548,
     "metadata": {},
     "output_type": "execute_result"
    },
    {
     "data": {
      "image/png": "[encoded data removed]",
      "text/plain": [
       "<Figure size 864x576 with 1 Axes>"
      ]
     },
     "metadata": {},
     "output_type": "display_data"
    }
   ],
   "source": [
    "##Histogramsto plot all the continuousvariables present in the data\n",
    "sns.histplot(data = df11 , x =\"labels\" , hue = \"holiday\")"
   ]
  },
  {
   "cell_type": "code",
   "execution_count": 549,
   "metadata": {
    "colab": {
     "base_uri": "https://localhost:8080/",
     "height": 726
    },
    "id": "65gfl082aPxp",
    "outputId": "6d1b6a18-ccf3-4ae2-e206-0c798c630c90"
   },
   "outputs": [
    {
     "data": {
      "image/png": "[encoded data removed]",
      "text/plain": [
       "<Figure size 864x576 with 1 Axes>"
      ]
     },
     "metadata": {},
     "output_type": "display_data"
    }
   ],
   "source": [
    "sns.countplot(x='weather',data=df11)\n",
    "plt.xticks(rotation=90)\n",
    "plt.show()"
   ]
  },
  {
   "cell_type": "code",
   "execution_count": 550,
   "metadata": {
    "colab": {
     "base_uri": "https://localhost:8080/",
     "height": 512
    },
    "id": "ZgXN7Gj5aVpH",
    "outputId": "6b9aa14a-3eae-4a3d-8cc6-24064b9f53a7"
   },
   "outputs": [
    {
     "data": {
      "image/png": "[encoded data removed]",
      "text/plain": [
       "<Figure size 864x576 with 1 Axes>"
      ]
     },
     "metadata": {},
     "output_type": "display_data"
    }
   ],
   "source": [
    "# Show value counts for a season Column and weather Column of dataset df_o:\n",
    "import seaborn as ns\n",
    "sns.countplot(x='season',data=df11,hue='weather')\n",
    "plt.show()"
   ]
  },
  {
   "cell_type": "code",
   "execution_count": 551,
   "metadata": {
    "colab": {
     "base_uri": "https://localhost:8080/",
     "height": 512
    },
    "id": "fHNMJKu5ahYq",
    "outputId": "0ef22886-b1dd-4480-c48b-0f09376b3431"
   },
   "outputs": [
    {
     "data": {
      "image/png": "[encoded data removed]",
      "text/plain": [
       "<Figure size 864x576 with 1 Axes>"
      ]
     },
     "metadata": {},
     "output_type": "display_data"
    }
   ],
   "source": [
    "sns.countplot(x='season',data=df11,hue='workingday')\n",
    "plt.show()"
   ]
  },
  {
   "cell_type": "code",
   "execution_count": 552,
   "metadata": {
    "colab": {
     "base_uri": "https://localhost:8080/",
     "height": 517
    },
    "id": "wwCUBozLbJ-5",
    "outputId": "e68fcc33-7bf5-43fb-9478-5ab346e6c85c"
   },
   "outputs": [
    {
     "name": "stdout",
     "output_type": "stream",
     "text": [
      "No working and No Holiday =  2516\n",
      "Total HoliDay =  248\n",
      "Total Working Day =  5762\n"
     ]
    },
    {
     "data": {
      "image/png": "[encoded data removed]",
      "text/plain": [
       "<Figure size 864x576 with 1 Axes>"
      ]
     },
     "metadata": {},
     "output_type": "display_data"
    }
   ],
   "source": [
    "# Visualize distribution of data: total_bookingcolumn and plot the probability distribution plot for the column as wel\n",
    "\n",
    "Not_Holiday_Not_workingday=df11[(df11.holiday==0) & (df11.workingday==0)].shape[0]\n",
    "print('No working and No Holiday = ', Not_Holiday_Not_workingday)\n",
    "Holiday=df11[(df1.holiday==1)].shape[0]\n",
    "print('Total HoliDay = ', Holiday)\n",
    "WorkingDay=df11[(df11.workingday==1)].shape[0]\n",
    "print('Total Working Day = ', WorkingDay)\n",
    "plt.pie(x=[Not_Holiday_Not_workingday,WorkingDay,Holiday],labels=['No Holiday & No workingday','WorkingDay','Holiday'],explode=(.1,.1,.1),colors=['g','r','b'],autopct='%.2f',wedgeprops={'edgecolor':'k'})\n",
    "plt.show()"
   ]
  },
  {
   "cell_type": "code",
   "execution_count": 553,
   "metadata": {
    "colab": {
     "base_uri": "https://localhost:8080/",
     "height": 529
    },
    "id": "D-gUz9qcbots",
    "outputId": "175d5fac-6672-4c0b-c6c2-0133b57cba9c"
   },
   "outputs": [
    {
     "data": {
      "text/plain": [
       "<matplotlib.axes._subplots.AxesSubplot at 0x7f5e104e0490>"
      ]
     },
     "execution_count": 553,
     "metadata": {},
     "output_type": "execute_result"
    },
    {
     "data": {
      "image/png": "[encoded data removed]",
      "text/plain": [
       "<Figure size 864x576 with 1 Axes>"
      ]
     },
     "metadata": {},
     "output_type": "display_data"
    }
   ],
   "source": [
    "sns.histplot(data = df11 , x = \"temp\")"
   ]
  },
  {
   "cell_type": "code",
   "execution_count": 554,
   "metadata": {
    "colab": {
     "base_uri": "https://localhost:8080/",
     "height": 529
    },
    "id": "r9v_BDJLcJzY",
    "outputId": "e86bba51-4585-4a80-de31-2ad1a23bf744"
   },
   "outputs": [
    {
     "data": {
      "text/plain": [
       "<matplotlib.axes._subplots.AxesSubplot at 0x7f5e103ca090>"
      ]
     },
     "execution_count": 554,
     "metadata": {},
     "output_type": "execute_result"
    },
    {
     "data": {
      "image/png": "[encoded data removed]",
      "text/plain": [
       "<Figure size 864x576 with 1 Axes>"
      ]
     },
     "metadata": {},
     "output_type": "display_data"
    }
   ],
   "source": [
    "sns.histplot(data = df11 , x = \"humidity\")"
   ]
  },
  {
   "cell_type": "code",
   "execution_count": 555,
   "metadata": {
    "colab": {
     "base_uri": "https://localhost:8080/",
     "height": 529
    },
    "id": "DHCNsfPacQYw",
    "outputId": "e83b000e-560c-4beb-9562-8f885bba73eb"
   },
   "outputs": [
    {
     "data": {
      "text/plain": [
       "<matplotlib.axes._subplots.AxesSubplot at 0x7f5e102f5a50>"
      ]
     },
     "execution_count": 555,
     "metadata": {},
     "output_type": "execute_result"
    },
    {
     "data": {
      "image/png": "[encoded data removed]",
      "text/plain": [
       "<Figure size 864x576 with 1 Axes>"
      ]
     },
     "metadata": {},
     "output_type": "display_data"
    }
   ],
   "source": [
    "sns.histplot(data = df11 , x = \"windspeed\")"
   ]
  },
  {
   "cell_type": "code",
   "execution_count": 556,
   "metadata": {
    "colab": {
     "base_uri": "https://localhost:8080/",
     "height": 490
    },
    "id": "kDyNAsi0cVth",
    "outputId": "6f1f30e1-f546-492f-8ad1-88eb710fd5c2"
   },
   "outputs": [
    {
     "data": {
      "image/png": "[encoded data removed]",
      "text/plain": [
       "<Figure size 864x576 with 1 Axes>"
      ]
     },
     "metadata": {},
     "output_type": "display_data"
    }
   ],
   "source": [
    "###Visualize distribution of data: total_bookingcolumn and plot the probability distribution plot for the column as wel\n",
    "from scipy.stats import norm\n",
    "ax = sns.distplot(x = df11[\"labels\"], fit=norm, kde=False)"
   ]
  },
  {
   "cell_type": "code",
   "execution_count": 557,
   "metadata": {
    "colab": {
     "base_uri": "https://localhost:8080/",
     "height": 490
    },
    "id": "dBZx-OH7ccBf",
    "outputId": "dd83b736-ee59-4201-ea33-d7f29b0c17b3"
   },
   "outputs": [
    {
     "data": {
      "image/png": "[encoded data removed]",
      "text/plain": [
       "<Figure size 864x576 with 1 Axes>"
      ]
     },
     "metadata": {},
     "output_type": "display_data"
    }
   ],
   "source": [
    "ax = sns.distplot(x = df11[\"humidity\"], fit=norm, kde=False)"
   ]
  },
  {
   "cell_type": "code",
   "execution_count": 558,
   "metadata": {
    "colab": {
     "base_uri": "https://localhost:8080/",
     "height": 490
    },
    "id": "SQ66xpnCcjqQ",
    "outputId": "96cdcff4-668a-4b30-da88-7322b57321fe"
   },
   "outputs": [
    {
     "data": {
      "image/png": "[encoded data removed]",
      "text/plain": [
       "<Figure size 864x576 with 1 Axes>"
      ]
     },
     "metadata": {},
     "output_type": "display_data"
    }
   ],
   "source": [
    "ax = sns.distplot(x = df11[\"windspeed\"], fit=norm, kde=False)"
   ]
  },
  {
   "cell_type": "code",
   "execution_count": 559,
   "metadata": {
    "colab": {
     "base_uri": "https://localhost:8080/",
     "height": 492
    },
    "id": "G5oOmHywco1z",
    "outputId": "a22474dc-47de-4a6a-bc35-9dc6fdda558d"
   },
   "outputs": [
    {
     "data": {
      "image/png": "[encoded data removed]",
      "text/plain": [
       "<Figure size 864x576 with 1 Axes>"
      ]
     },
     "metadata": {},
     "output_type": "display_data"
    }
   ],
   "source": [
    "ax = sns.distplot(x = df11[\"temp\"], fit=norm, kde=False)"
   ]
  },
  {
   "cell_type": "code",
   "execution_count": 560,
   "metadata": {
    "id": "UYZO8wUbJ_N4"
   },
   "outputs": [],
   "source": [
    "####Join the train and test dataset:\n",
    "\n",
    "f1 = df11.append(df2, sort=False)\n",
    "f1.reset_index(inplace=True)\n",
    "f1.drop('index',inplace=True,axis=1)\n",
    "f1.shape\n",
    "f1.head()\n",
    "\n",
    "###Convert the categorical variables into one hot vector\n",
    "from sklearn.preprocessing import OneHotEncoder"
   ]
  },
  {
   "cell_type": "code",
   "execution_count": 561,
   "metadata": {
    "id": "0EyN5QCWld3E"
   },
   "outputs": [],
   "source": [
    "dummy=['season','weather','holiday','workingday','month','weekday']"
   ]
  },
  {
   "cell_type": "code",
   "execution_count": 562,
   "metadata": {
    "id": "a31zAX8UlhFT"
   },
   "outputs": [],
   "source": [
    "f1 = pd.get_dummies(f1,columns = dummy)"
   ]
  },
  {
   "cell_type": "code",
   "execution_count": 462,
   "metadata": {
    "id": "Nsb6dd89K22F"
   },
   "outputs": [],
   "source": [
    "hum = OneHotEncoder(handle_unknown='ignore' ,sparse =False)\n",
    "hum.fit(np.array(f1[\"holiday\"]).reshape(-1,1))\n",
    "h =hum.transform(np.array(f1[\"holiday\"]).reshape(-1,1))\n",
    "enc = OneHotEncoder(handle_unknown='ignore' ,sparse = False)\n",
    "enc.fit(np.array(f1[\"season\"]).reshape(-1,1))\n",
    "s =enc.transform(np.array(f1[\"season\"]).reshape(-1,1))####train data"
   ]
  },
  {
   "cell_type": "code",
   "execution_count": 463,
   "metadata": {
    "colab": {
     "base_uri": "https://localhost:8080/"
    },
    "id": "dkqZMb5HK5JL",
    "outputId": "6bbf9269-a6bf-4d6a-a841-1ace67ea336f"
   },
   "outputs": [
    {
     "data": {
      "text/plain": [
       "(10704, 12)"
      ]
     },
     "execution_count": 463,
     "metadata": {},
     "output_type": "execute_result"
    }
   ],
   "source": [
    "we = OneHotEncoder(handle_unknown='ignore',sparse =False)\n",
    "we.fit(np.array(f1[\"weather\"]).reshape(-1,1))\n",
    "w =we.transform(np.array(f1[\"weather\"]).reshape(-1,1))\n",
    "\n",
    "wd = OneHotEncoder(handle_unknown='ignore',sparse =False)\n",
    "wd.fit(np.array(f1[\"workingday\"]).reshape(-1,1))\n",
    "wdy =wd.transform(np.array(f1[\"workingday\"]).reshape(-1,1))\n",
    "\n",
    "wdy1 = OneHotEncoder(handle_unknown='ignore',sparse =False)\n",
    "wdy1.fit(np.array(f1[\"weekday\"]).reshape(-1,1))\n",
    "wd1 =wdy1.transform(np.array(f1[\"weekday\"]).reshape(-1,1))\n",
    "\n",
    "hum1 = OneHotEncoder(handle_unknown='ignore' ,sparse =False)\n",
    "hum1.fit(np.array(f1[\"month\"]).reshape(-1,1))\n",
    "h1 =hum1.transform(np.array(f1[\"month\"]).reshape(-1,1))\n",
    "h1.shape"
   ]
  },
  {
   "cell_type": "code",
   "execution_count": 564,
   "metadata": {
    "colab": {
     "base_uri": "https://localhost:8080/"
    },
    "id": "0vBaHU8vMIss",
    "outputId": "c8abe276-dec0-4193-a4b3-54f92e3589eb"
   },
   "outputs": [
    {
     "name": "stdout",
     "output_type": "stream",
     "text": [
      "<class 'pandas.core.frame.DataFrame'>\n",
      "RangeIndex: 8526 entries, 0 to 8525\n",
      "Data columns (total 38 columns):\n",
      " #   Column                               Non-Null Count  Dtype  \n",
      "---  ------                               --------------  -----  \n",
      " 0   temp                                 8526 non-null   float64\n",
      " 1   atemp                                8526 non-null   float64\n",
      " 2   humidity                             8526 non-null   int64  \n",
      " 3   windspeed                            8526 non-null   float64\n",
      " 4   labels                               8526 non-null   int64  \n",
      " 5   hour                                 8526 non-null   int64  \n",
      " 6   date                                 8526 non-null   int64  \n",
      " 7   season_Fall                          8526 non-null   uint8  \n",
      " 8   season_Spring                        8526 non-null   uint8  \n",
      " 9   season_Summer                        8526 non-null   uint8  \n",
      " 10  season_Winter                        8526 non-null   uint8  \n",
      " 11  weather_ Clear + Few clouds          8526 non-null   uint8  \n",
      " 12  weather_ Heavy Rain + Thunderstorm   8526 non-null   uint8  \n",
      " 13  weather_ Light Snow, Light Rain      8526 non-null   uint8  \n",
      " 14  weather_ Mist + Cloudy               8526 non-null   uint8  \n",
      " 15  holiday_0                            8526 non-null   uint8  \n",
      " 16  holiday_1                            8526 non-null   uint8  \n",
      " 17  workingday_0                         8526 non-null   uint8  \n",
      " 18  workingday_1                         8526 non-null   uint8  \n",
      " 19  month_April                          8526 non-null   uint8  \n",
      " 20  month_August                         8526 non-null   uint8  \n",
      " 21  month_December                       8526 non-null   uint8  \n",
      " 22  month_February                       8526 non-null   uint8  \n",
      " 23  month_January                        8526 non-null   uint8  \n",
      " 24  month_July                           8526 non-null   uint8  \n",
      " 25  month_June                           8526 non-null   uint8  \n",
      " 26  month_March                          8526 non-null   uint8  \n",
      " 27  month_May                            8526 non-null   uint8  \n",
      " 28  month_November                       8526 non-null   uint8  \n",
      " 29  month_October                        8526 non-null   uint8  \n",
      " 30  month_September                      8526 non-null   uint8  \n",
      " 31  weekday_Friday                       8526 non-null   uint8  \n",
      " 32  weekday_Monday                       8526 non-null   uint8  \n",
      " 33  weekday_Saturday                     8526 non-null   uint8  \n",
      " 34  weekday_Sunday                       8526 non-null   uint8  \n",
      " 35  weekday_Thursday                     8526 non-null   uint8  \n",
      " 36  weekday_Tuesday                      8526 non-null   uint8  \n",
      " 37  weekday_Wednesday                    8526 non-null   uint8  \n",
      "dtypes: float64(3), int64(4), uint8(31)\n",
      "memory usage: 724.5 KB\n"
     ]
    }
   ],
   "source": [
    "df_train = f1[:df11.shape[0]]\n",
    "df_test = f1[df11.shape[0]:]\n",
    "\n",
    "df_train.info()"
   ]
  },
  {
   "cell_type": "code",
   "execution_count": 565,
   "metadata": {
    "id": "FvqSGYSed4l3"
   },
   "outputs": [],
   "source": [
    "###splitiing of the data in to train and test for both train data and test data\n",
    "from sklearn.model_selection import train_test_split\n",
    "from scipy import sparse"
   ]
  },
  {
   "cell_type": "code",
   "execution_count": 566,
   "metadata": {
    "colab": {
     "base_uri": "https://localhost:8080/"
    },
    "id": "sxs0LxNUMR5A",
    "outputId": "efea31e0-fb95-4fca-e128-4a618deed9be"
   },
   "outputs": [
    {
     "data": {
      "text/plain": [
       "(8526, 38)"
      ]
     },
     "execution_count": 566,
     "metadata": {},
     "output_type": "execute_result"
    }
   ],
   "source": [
    "X = df_train\n",
    "X.shape"
   ]
  },
  {
   "cell_type": "code",
   "execution_count": 469,
   "metadata": {
    "colab": {
     "base_uri": "https://localhost:8080/",
     "height": 290
    },
    "id": "CvxTzvlOM_D3",
    "outputId": "39b12ed3-7abe-47dc-d684-6c26020f0dcf"
   },
   "outputs": [
    {
     "data": {
      "text/html": [
       "<div>\n",
       "<style scoped>\n",
       "    .dataframe tbody tr th:only-of-type {\n",
       "        vertical-align: middle;\n",
       "    }\n",
       "\n",
       "    .dataframe tbody tr th {\n",
       "        vertical-align: top;\n",
       "    }\n",
       "\n",
       "    .dataframe thead th {\n",
       "        text-align: right;\n",
       "    }\n",
       "</style>\n",
       "<table border=\"1\" class=\"dataframe\">\n",
       "  <thead>\n",
       "    <tr style=\"text-align: right;\">\n",
       "      <th></th>\n",
       "      <th>temp</th>\n",
       "      <th>atemp</th>\n",
       "      <th>humidity</th>\n",
       "      <th>windspeed</th>\n",
       "      <th>labels</th>\n",
       "      <th>hour</th>\n",
       "      <th>date</th>\n",
       "      <th>season_Fall</th>\n",
       "      <th>season_Spring</th>\n",
       "      <th>season_Summer</th>\n",
       "      <th>season_Winter</th>\n",
       "      <th>weather_ Clear + Few clouds</th>\n",
       "      <th>weather_ Heavy Rain + Thunderstorm</th>\n",
       "      <th>weather_ Light Snow, Light Rain</th>\n",
       "      <th>weather_ Mist + Cloudy</th>\n",
       "      <th>holiday_0</th>\n",
       "      <th>holiday_1</th>\n",
       "      <th>workingday_0</th>\n",
       "      <th>workingday_1</th>\n",
       "      <th>month_April</th>\n",
       "      <th>month_August</th>\n",
       "      <th>month_December</th>\n",
       "      <th>month_February</th>\n",
       "      <th>month_January</th>\n",
       "      <th>month_July</th>\n",
       "      <th>month_June</th>\n",
       "      <th>month_March</th>\n",
       "      <th>month_May</th>\n",
       "      <th>month_November</th>\n",
       "      <th>month_October</th>\n",
       "      <th>month_September</th>\n",
       "      <th>weekday_Friday</th>\n",
       "      <th>weekday_Monday</th>\n",
       "      <th>weekday_Saturday</th>\n",
       "      <th>weekday_Sunday</th>\n",
       "      <th>weekday_Thursday</th>\n",
       "      <th>weekday_Tuesday</th>\n",
       "      <th>weekday_Wednesday</th>\n",
       "    </tr>\n",
       "  </thead>\n",
       "  <tbody>\n",
       "    <tr>\n",
       "      <th>0</th>\n",
       "      <td>22.14</td>\n",
       "      <td>25.760</td>\n",
       "      <td>77</td>\n",
       "      <td>16.9979</td>\n",
       "      <td>504</td>\n",
       "      <td>19</td>\n",
       "      <td>2012</td>\n",
       "      <td>0</td>\n",
       "      <td>0</td>\n",
       "      <td>1</td>\n",
       "      <td>0</td>\n",
       "      <td>1</td>\n",
       "      <td>0</td>\n",
       "      <td>0</td>\n",
       "      <td>0</td>\n",
       "      <td>1</td>\n",
       "      <td>0</td>\n",
       "      <td>0</td>\n",
       "      <td>1</td>\n",
       "      <td>0</td>\n",
       "      <td>0</td>\n",
       "      <td>0</td>\n",
       "      <td>0</td>\n",
       "      <td>0</td>\n",
       "      <td>0</td>\n",
       "      <td>0</td>\n",
       "      <td>0</td>\n",
       "      <td>1</td>\n",
       "      <td>0</td>\n",
       "      <td>0</td>\n",
       "      <td>0</td>\n",
       "      <td>0</td>\n",
       "      <td>0</td>\n",
       "      <td>0</td>\n",
       "      <td>0</td>\n",
       "      <td>0</td>\n",
       "      <td>0</td>\n",
       "      <td>1</td>\n",
       "    </tr>\n",
       "    <tr>\n",
       "      <th>1</th>\n",
       "      <td>28.70</td>\n",
       "      <td>33.335</td>\n",
       "      <td>79</td>\n",
       "      <td>19.0012</td>\n",
       "      <td>5</td>\n",
       "      <td>4</td>\n",
       "      <td>2012</td>\n",
       "      <td>1</td>\n",
       "      <td>0</td>\n",
       "      <td>0</td>\n",
       "      <td>0</td>\n",
       "      <td>1</td>\n",
       "      <td>0</td>\n",
       "      <td>0</td>\n",
       "      <td>0</td>\n",
       "      <td>1</td>\n",
       "      <td>0</td>\n",
       "      <td>0</td>\n",
       "      <td>1</td>\n",
       "      <td>0</td>\n",
       "      <td>0</td>\n",
       "      <td>0</td>\n",
       "      <td>0</td>\n",
       "      <td>0</td>\n",
       "      <td>0</td>\n",
       "      <td>0</td>\n",
       "      <td>0</td>\n",
       "      <td>0</td>\n",
       "      <td>0</td>\n",
       "      <td>0</td>\n",
       "      <td>1</td>\n",
       "      <td>0</td>\n",
       "      <td>0</td>\n",
       "      <td>0</td>\n",
       "      <td>0</td>\n",
       "      <td>0</td>\n",
       "      <td>0</td>\n",
       "      <td>1</td>\n",
       "    </tr>\n",
       "    <tr>\n",
       "      <th>2</th>\n",
       "      <td>5.74</td>\n",
       "      <td>6.060</td>\n",
       "      <td>50</td>\n",
       "      <td>22.0028</td>\n",
       "      <td>139</td>\n",
       "      <td>9</td>\n",
       "      <td>2011</td>\n",
       "      <td>0</td>\n",
       "      <td>1</td>\n",
       "      <td>0</td>\n",
       "      <td>0</td>\n",
       "      <td>1</td>\n",
       "      <td>0</td>\n",
       "      <td>0</td>\n",
       "      <td>0</td>\n",
       "      <td>1</td>\n",
       "      <td>0</td>\n",
       "      <td>0</td>\n",
       "      <td>1</td>\n",
       "      <td>0</td>\n",
       "      <td>0</td>\n",
       "      <td>0</td>\n",
       "      <td>0</td>\n",
       "      <td>1</td>\n",
       "      <td>0</td>\n",
       "      <td>0</td>\n",
       "      <td>0</td>\n",
       "      <td>0</td>\n",
       "      <td>0</td>\n",
       "      <td>0</td>\n",
       "      <td>0</td>\n",
       "      <td>0</td>\n",
       "      <td>0</td>\n",
       "      <td>0</td>\n",
       "      <td>0</td>\n",
       "      <td>1</td>\n",
       "      <td>0</td>\n",
       "      <td>0</td>\n",
       "    </tr>\n",
       "    <tr>\n",
       "      <th>3</th>\n",
       "      <td>13.94</td>\n",
       "      <td>16.665</td>\n",
       "      <td>29</td>\n",
       "      <td>8.9981</td>\n",
       "      <td>209</td>\n",
       "      <td>16</td>\n",
       "      <td>2011</td>\n",
       "      <td>0</td>\n",
       "      <td>0</td>\n",
       "      <td>0</td>\n",
       "      <td>1</td>\n",
       "      <td>1</td>\n",
       "      <td>0</td>\n",
       "      <td>0</td>\n",
       "      <td>0</td>\n",
       "      <td>1</td>\n",
       "      <td>0</td>\n",
       "      <td>0</td>\n",
       "      <td>1</td>\n",
       "      <td>0</td>\n",
       "      <td>0</td>\n",
       "      <td>0</td>\n",
       "      <td>0</td>\n",
       "      <td>0</td>\n",
       "      <td>0</td>\n",
       "      <td>0</td>\n",
       "      <td>0</td>\n",
       "      <td>0</td>\n",
       "      <td>1</td>\n",
       "      <td>0</td>\n",
       "      <td>0</td>\n",
       "      <td>1</td>\n",
       "      <td>0</td>\n",
       "      <td>0</td>\n",
       "      <td>0</td>\n",
       "      <td>0</td>\n",
       "      <td>0</td>\n",
       "      <td>0</td>\n",
       "    </tr>\n",
       "    <tr>\n",
       "      <th>4</th>\n",
       "      <td>30.34</td>\n",
       "      <td>33.335</td>\n",
       "      <td>51</td>\n",
       "      <td>19.0012</td>\n",
       "      <td>184</td>\n",
       "      <td>13</td>\n",
       "      <td>2011</td>\n",
       "      <td>1</td>\n",
       "      <td>0</td>\n",
       "      <td>0</td>\n",
       "      <td>0</td>\n",
       "      <td>1</td>\n",
       "      <td>0</td>\n",
       "      <td>0</td>\n",
       "      <td>0</td>\n",
       "      <td>1</td>\n",
       "      <td>0</td>\n",
       "      <td>0</td>\n",
       "      <td>1</td>\n",
       "      <td>0</td>\n",
       "      <td>0</td>\n",
       "      <td>0</td>\n",
       "      <td>0</td>\n",
       "      <td>0</td>\n",
       "      <td>0</td>\n",
       "      <td>0</td>\n",
       "      <td>0</td>\n",
       "      <td>0</td>\n",
       "      <td>0</td>\n",
       "      <td>0</td>\n",
       "      <td>1</td>\n",
       "      <td>0</td>\n",
       "      <td>0</td>\n",
       "      <td>0</td>\n",
       "      <td>0</td>\n",
       "      <td>0</td>\n",
       "      <td>1</td>\n",
       "      <td>0</td>\n",
       "    </tr>\n",
       "  </tbody>\n",
       "</table>\n",
       "</div>"
      ],
      "text/plain": [
       "    temp   atemp  ...  weekday_Tuesday  weekday_Wednesday\n",
       "0  22.14  25.760  ...                0                  1\n",
       "1  28.70  33.335  ...                0                  1\n",
       "2   5.74   6.060  ...                0                  0\n",
       "3  13.94  16.665  ...                0                  0\n",
       "4  30.34  33.335  ...                1                  0\n",
       "\n",
       "[5 rows x 38 columns]"
      ]
     },
     "execution_count": 469,
     "metadata": {},
     "output_type": "execute_result"
    }
   ],
   "source": [
    "X.head()"
   ]
  },
  {
   "cell_type": "code",
   "execution_count": 470,
   "metadata": {
    "colab": {
     "base_uri": "https://localhost:8080/"
    },
    "id": "MbloUT0FNdJE",
    "outputId": "13341d96-28ef-4c82-d847-baf770c0db84"
   },
   "outputs": [
    {
     "name": "stdout",
     "output_type": "stream",
     "text": [
      "<class 'pandas.core.frame.DataFrame'>\n",
      "RangeIndex: 8526 entries, 0 to 8525\n",
      "Data columns (total 38 columns):\n",
      " #   Column                               Non-Null Count  Dtype  \n",
      "---  ------                               --------------  -----  \n",
      " 0   temp                                 8526 non-null   float64\n",
      " 1   atemp                                8526 non-null   float64\n",
      " 2   humidity                             8526 non-null   int64  \n",
      " 3   windspeed                            8526 non-null   float64\n",
      " 4   labels                               8526 non-null   int64  \n",
      " 5   hour                                 8526 non-null   int64  \n",
      " 6   date                                 8526 non-null   int64  \n",
      " 7   season_Fall                          8526 non-null   uint8  \n",
      " 8   season_Spring                        8526 non-null   uint8  \n",
      " 9   season_Summer                        8526 non-null   uint8  \n",
      " 10  season_Winter                        8526 non-null   uint8  \n",
      " 11  weather_ Clear + Few clouds          8526 non-null   uint8  \n",
      " 12  weather_ Heavy Rain + Thunderstorm   8526 non-null   uint8  \n",
      " 13  weather_ Light Snow, Light Rain      8526 non-null   uint8  \n",
      " 14  weather_ Mist + Cloudy               8526 non-null   uint8  \n",
      " 15  holiday_0                            8526 non-null   uint8  \n",
      " 16  holiday_1                            8526 non-null   uint8  \n",
      " 17  workingday_0                         8526 non-null   uint8  \n",
      " 18  workingday_1                         8526 non-null   uint8  \n",
      " 19  month_April                          8526 non-null   uint8  \n",
      " 20  month_August                         8526 non-null   uint8  \n",
      " 21  month_December                       8526 non-null   uint8  \n",
      " 22  month_February                       8526 non-null   uint8  \n",
      " 23  month_January                        8526 non-null   uint8  \n",
      " 24  month_July                           8526 non-null   uint8  \n",
      " 25  month_June                           8526 non-null   uint8  \n",
      " 26  month_March                          8526 non-null   uint8  \n",
      " 27  month_May                            8526 non-null   uint8  \n",
      " 28  month_November                       8526 non-null   uint8  \n",
      " 29  month_October                        8526 non-null   uint8  \n",
      " 30  month_September                      8526 non-null   uint8  \n",
      " 31  weekday_Friday                       8526 non-null   uint8  \n",
      " 32  weekday_Monday                       8526 non-null   uint8  \n",
      " 33  weekday_Saturday                     8526 non-null   uint8  \n",
      " 34  weekday_Sunday                       8526 non-null   uint8  \n",
      " 35  weekday_Thursday                     8526 non-null   uint8  \n",
      " 36  weekday_Tuesday                      8526 non-null   uint8  \n",
      " 37  weekday_Wednesday                    8526 non-null   uint8  \n",
      "dtypes: float64(3), int64(4), uint8(31)\n",
      "memory usage: 724.5 KB\n"
     ]
    }
   ],
   "source": [
    "X.info()"
   ]
  },
  {
   "cell_type": "code",
   "execution_count": 567,
   "metadata": {
    "id": "N2pVPolAeCf-"
   },
   "outputs": [],
   "source": [
    "X_train,X_test,Y_train,Y_test =train_test_split(X,df11[\"labels\"],random_state = 0,test_size = 0.2)"
   ]
  },
  {
   "cell_type": "code",
   "execution_count": 568,
   "metadata": {
    "colab": {
     "base_uri": "https://localhost:8080/"
    },
    "id": "fgi9SikufKqn",
    "outputId": "2539c3cc-69a0-4e3c-eed8-d15ab6ddcb22"
   },
   "outputs": [
    {
     "data": {
      "text/plain": [
       "RandomForestRegressor(bootstrap=True, ccp_alpha=0.0, criterion='mse',\n",
       "                      max_depth=None, max_features='auto', max_leaf_nodes=None,\n",
       "                      max_samples=None, min_impurity_decrease=0.0,\n",
       "                      min_impurity_split=None, min_samples_leaf=1,\n",
       "                      min_samples_split=2, min_weight_fraction_leaf=0.0,\n",
       "                      n_estimators=100, n_jobs=None, oob_score=False,\n",
       "                      random_state=0, verbose=0, warm_start=False)"
      ]
     },
     "execution_count": 568,
     "metadata": {},
     "output_type": "execute_result"
    }
   ],
   "source": [
    "from sklearn.ensemble import RandomForestRegressor\n",
    "regressor5 = RandomForestRegressor(random_state = 0)\n",
    "regressor5.fit(X_train,Y_train)"
   ]
  },
  {
   "cell_type": "code",
   "execution_count": 569,
   "metadata": {
    "id": "nqu-rKrxfQGf"
   },
   "outputs": [],
   "source": [
    "from sklearn.metrics import mean_squared_error"
   ]
  },
  {
   "cell_type": "code",
   "execution_count": 570,
   "metadata": {
    "id": "NRj4j1lHfStQ"
   },
   "outputs": [],
   "source": [
    "Y_pred = regressor5.predict(X_test)"
   ]
  },
  {
   "cell_type": "code",
   "execution_count": 571,
   "metadata": {
    "id": "98rv_HxufUGt"
   },
   "outputs": [],
   "source": [
    "mse5 = mean_squared_error(Y_test,Y_pred)\n",
    "import math\n",
    "rmse5 = math.sqrt(mse5)"
   ]
  },
  {
   "cell_type": "code",
   "execution_count": 572,
   "metadata": {
    "colab": {
     "base_uri": "https://localhost:8080/"
    },
    "id": "oyz7V4mlfWwZ",
    "outputId": "3fd77f87-afed-40c7-d2f9-9a1c9c151503"
   },
   "outputs": [
    {
     "name": "stdout",
     "output_type": "stream",
     "text": [
      "0.13645099691968132\n"
     ]
    }
   ],
   "source": [
    "print(rmse5)"
   ]
  },
  {
   "cell_type": "code",
   "execution_count": 573,
   "metadata": {
    "colab": {
     "base_uri": "https://localhost:8080/"
    },
    "id": "6ZcNbNMvfaB8",
    "outputId": "303e555a-e6d7-4acf-eec9-6e9a4987d8cb"
   },
   "outputs": [
    {
     "name": "stdout",
     "output_type": "stream",
     "text": [
      "0.20289522241256278\n"
     ]
    }
   ],
   "source": [
    "from sklearn.ensemble import BaggingRegressor\n",
    "regressor1 = BaggingRegressor(random_state=0)\n",
    "regressor1.fit(X_train,Y_train)\n",
    "Y_pred = regressor1.predict(X_test)\n",
    "mse = mean_squared_error(Y_test,Y_pred)\n",
    "import math\n",
    "rmse1 = math.sqrt(mse)\n",
    "print(rmse1)"
   ]
  },
  {
   "cell_type": "code",
   "execution_count": 574,
   "metadata": {
    "colab": {
     "base_uri": "https://localhost:8080/"
    },
    "id": "jsK9qsCffgah",
    "outputId": "cb02cb42-3db3-4020-807a-98b99c37e38a"
   },
   "outputs": [
    {
     "name": "stdout",
     "output_type": "stream",
     "text": [
      "99.01348384508383\n"
     ]
    }
   ],
   "source": [
    "from sklearn.svm import SVR\n",
    "regressor2 = SVR()\n",
    "regressor2.fit(X_train,Y_train)\n",
    "Y_pred = regressor2.predict(X_test)\n",
    "mse = mean_squared_error(Y_test,Y_pred)\n",
    "import math\n",
    "rmse2 = math.sqrt(mse)\n",
    "print(rmse2)"
   ]
  },
  {
   "cell_type": "code",
   "execution_count": 575,
   "metadata": {
    "colab": {
     "base_uri": "https://localhost:8080/"
    },
    "id": "LvrsZxx2fkqa",
    "outputId": "3cf3251c-48b8-4725-9b3c-201c931806d7"
   },
   "outputs": [
    {
     "name": "stdout",
     "output_type": "stream",
     "text": [
      "11.715326325462758\n"
     ]
    }
   ],
   "source": [
    "from sklearn.ensemble import AdaBoostRegressor\n",
    "regressor3 = AdaBoostRegressor()\n",
    "regressor3.fit(X_train,Y_train)\n",
    "Y_pred = regressor3.predict(X_test)\n",
    "mse = mean_squared_error(Y_test,Y_pred)\n",
    "import math\n",
    "rmse3 = math.sqrt(mse)\n",
    "print(rmse3)"
   ]
  },
  {
   "cell_type": "code",
   "execution_count": 576,
   "metadata": {
    "colab": {
     "base_uri": "https://localhost:8080/"
    },
    "id": "1fO0i2YjfoH-",
    "outputId": "a3b41308-4f22-4042-fb9d-a5b1a36d1bca"
   },
   "outputs": [
    {
     "name": "stdout",
     "output_type": "stream",
     "text": [
      "2.0161539884247506\n"
     ]
    }
   ],
   "source": [
    "from sklearn.neighbors import KNeighborsRegressor\n",
    "regressor4 = KNeighborsRegressor()\n",
    "regressor4.fit(X_train,Y_train)\n",
    "Y_pred = regressor4.predict(X_test)\n",
    "mse = mean_squared_error(Y_test,Y_pred)\n",
    "import math\n",
    "rmse4 = math.sqrt(mse)\n",
    "print(rmse4)"
   ]
  },
  {
   "cell_type": "code",
   "execution_count": 577,
   "metadata": {
    "colab": {
     "base_uri": "https://localhost:8080/",
     "height": 529
    },
    "id": "ObFB0ezmfp0q",
    "outputId": "339c55c5-873a-4b25-b6dd-0233db3777ab"
   },
   "outputs": [
    {
     "data": {
      "text/plain": [
       "<matplotlib.axes._subplots.AxesSubplot at 0x7f5e117b6290>"
      ]
     },
     "execution_count": 577,
     "metadata": {},
     "output_type": "execute_result"
    },
    {
     "data": {
      "image/png": "[encoded data removed]",
      "text/plain": [
       "<Figure size 864x576 with 1 Axes>"
      ]
     },
     "metadata": {},
     "output_type": "display_data"
    }
   ],
   "source": [
    "rmse = [rmse1,rmse2,rmse3,rmse4,rmse5]\n",
    "regress = [\"BaggingRegressor\" ,\"SVR\", \"AdaBoostRegressor\",\"KNN\",\"RandomForestRegressor\"]\n",
    "df1 = pd.DataFrame({\"rmse\" :rmse, \"regress\" : regress})\n",
    "sns.pointplot(y ='regress', x ='rmse', data = df1)"
   ]
  },
  {
   "cell_type": "code",
   "execution_count": 578,
   "metadata": {
    "id": "0I0LWq1if0wH"
   },
   "outputs": [],
   "source": [
    "param_grid=({\"n_estimators\":[10,20,30], \"max_samples\" :[10,40,100]})"
   ]
  },
  {
   "cell_type": "code",
   "execution_count": 579,
   "metadata": {
    "id": "RxYSxS3xf5dY"
   },
   "outputs": [],
   "source": [
    "from sklearn.model_selection import GridSearchCV"
   ]
  },
  {
   "cell_type": "code",
   "execution_count": 580,
   "metadata": {
    "id": "z2jkAssrf8cc"
   },
   "outputs": [],
   "source": [
    "model = GridSearchCV(estimator=RandomForestRegressor(),param_grid= param_grid)"
   ]
  },
  {
   "cell_type": "code",
   "execution_count": 581,
   "metadata": {
    "colab": {
     "base_uri": "https://localhost:8080/"
    },
    "id": "298kNHhqf_F_",
    "outputId": "7518d59f-5b9e-42d7-c956-70b973cb8afa"
   },
   "outputs": [
    {
     "data": {
      "text/plain": [
       "GridSearchCV(cv=None, error_score=nan,\n",
       "             estimator=RandomForestRegressor(bootstrap=True, ccp_alpha=0.0,\n",
       "                                             criterion='mse', max_depth=None,\n",
       "                                             max_features='auto',\n",
       "                                             max_leaf_nodes=None,\n",
       "                                             max_samples=None,\n",
       "                                             min_impurity_decrease=0.0,\n",
       "                                             min_impurity_split=None,\n",
       "                                             min_samples_leaf=1,\n",
       "                                             min_samples_split=2,\n",
       "                                             min_weight_fraction_leaf=0.0,\n",
       "                                             n_estimators=100, n_jobs=None,\n",
       "                                             oob_score=False, random_state=None,\n",
       "                                             verbose=0, warm_start=False),\n",
       "             iid='deprecated', n_jobs=None,\n",
       "             param_grid={'max_samples': [10, 40, 100],\n",
       "                         'n_estimators': [10, 20, 30]},\n",
       "             pre_dispatch='2*n_jobs', refit=True, return_train_score=False,\n",
       "             scoring=None, verbose=0)"
      ]
     },
     "execution_count": 581,
     "metadata": {},
     "output_type": "execute_result"
    }
   ],
   "source": [
    "model.fit(X_train,Y_train)"
   ]
  },
  {
   "cell_type": "code",
   "execution_count": 582,
   "metadata": {
    "colab": {
     "base_uri": "https://localhost:8080/"
    },
    "id": "ccA1ikabgC6x",
    "outputId": "f86c3b83-264d-422d-9ea5-aee281084ebd"
   },
   "outputs": [
    {
     "data": {
      "text/plain": [
       "{'max_samples': 100, 'n_estimators': 30}"
      ]
     },
     "execution_count": 582,
     "metadata": {},
     "output_type": "execute_result"
    }
   ],
   "source": [
    "model.best_params_####Perform Hyper-parameter tuning on the best model using GridSearchCVand print the best parameters using model.best_params_"
   ]
  },
  {
   "cell_type": "code",
   "execution_count": 583,
   "metadata": {
    "id": "rhrv7y2CgGv3"
   },
   "outputs": [],
   "source": [
    " y_pre = model.predict(X_test)"
   ]
  },
  {
   "cell_type": "code",
   "execution_count": 584,
   "metadata": {
    "id": "IutqGmSHgLGq"
   },
   "outputs": [],
   "source": [
    "from sklearn.metrics import mean_squared_log_error"
   ]
  },
  {
   "cell_type": "code",
   "execution_count": 585,
   "metadata": {
    "id": "F1cvkcUkgMbt"
   },
   "outputs": [],
   "source": [
    "mqse = mean_squared_log_error(Y_test,y_pre)"
   ]
  },
  {
   "cell_type": "code",
   "execution_count": 586,
   "metadata": {
    "colab": {
     "base_uri": "https://localhost:8080/"
    },
    "id": "poCZjrUtgQ7r",
    "outputId": "e850f371-014b-43f3-851a-7afb501c8945"
   },
   "outputs": [
    {
     "name": "stdout",
     "output_type": "stream",
     "text": [
      "0.003949969636281966\n"
     ]
    }
   ],
   "source": [
    "print(mqse)"
   ]
  },
  {
   "cell_type": "code",
   "execution_count": 587,
   "metadata": {
    "colab": {
     "base_uri": "https://localhost:8080/"
    },
    "id": "D-v67Y4NiYtF",
    "outputId": "c5d98890-2c97-4527-feb9-e1a602bc4bd9"
   },
   "outputs": [
    {
     "data": {
      "text/plain": [
       "(2178, 13)"
      ]
     },
     "execution_count": 587,
     "metadata": {},
     "output_type": "execute_result"
    }
   ],
   "source": [
    "###for test data\n",
    "df2.shape"
   ]
  },
  {
   "cell_type": "code",
   "execution_count": 588,
   "metadata": {
    "colab": {
     "base_uri": "https://localhost:8080/"
    },
    "id": "Ylishqsna3UL",
    "outputId": "998dc002-0acf-4988-da68-cff6d1373ec7"
   },
   "outputs": [
    {
     "name": "stdout",
     "output_type": "stream",
     "text": [
      "<class 'pandas.core.frame.DataFrame'>\n",
      "RangeIndex: 2178 entries, 0 to 2177\n",
      "Data columns (total 13 columns):\n",
      " #   Column      Non-Null Count  Dtype   \n",
      "---  ------      --------------  -----   \n",
      " 0   season      2178 non-null   category\n",
      " 1   holiday     2178 non-null   category\n",
      " 2   workingday  2178 non-null   category\n",
      " 3   weather     2178 non-null   category\n",
      " 4   temp        2178 non-null   float64 \n",
      " 5   atemp       2178 non-null   float64 \n",
      " 6   humidity    2178 non-null   int64   \n",
      " 7   windspeed   2178 non-null   float64 \n",
      " 8   labels      2178 non-null   int64   \n",
      " 9   month       2178 non-null   object  \n",
      " 10  weekday     2178 non-null   object  \n",
      " 11  hour        2178 non-null   int64   \n",
      " 12  date        2178 non-null   int64   \n",
      "dtypes: category(4), float64(3), int64(4), object(2)\n",
      "memory usage: 162.2+ KB\n"
     ]
    }
   ],
   "source": [
    "df2.info()"
   ]
  },
  {
   "cell_type": "code",
   "execution_count": 589,
   "metadata": {
    "colab": {
     "base_uri": "https://localhost:8080/"
    },
    "id": "pZoQfu33YXL5",
    "outputId": "08a61b7b-d787-4ab9-fb3e-df10ed37ae35"
   },
   "outputs": [
    {
     "data": {
      "text/plain": [
       "(2178, 38)"
      ]
     },
     "execution_count": 589,
     "metadata": {},
     "output_type": "execute_result"
    }
   ],
   "source": [
    "df_test.shape"
   ]
  },
  {
   "cell_type": "code",
   "execution_count": 590,
   "metadata": {
    "colab": {
     "base_uri": "https://localhost:8080/"
    },
    "id": "StqK2FgvZeah",
    "outputId": "b8321786-b912-4ca7-cf45-adcec7a0084f"
   },
   "outputs": [
    {
     "name": "stdout",
     "output_type": "stream",
     "text": [
      "<class 'pandas.core.frame.DataFrame'>\n",
      "RangeIndex: 2178 entries, 8526 to 10703\n",
      "Data columns (total 38 columns):\n",
      " #   Column                               Non-Null Count  Dtype  \n",
      "---  ------                               --------------  -----  \n",
      " 0   temp                                 2178 non-null   float64\n",
      " 1   atemp                                2178 non-null   float64\n",
      " 2   humidity                             2178 non-null   int64  \n",
      " 3   windspeed                            2178 non-null   float64\n",
      " 4   labels                               2178 non-null   int64  \n",
      " 5   hour                                 2178 non-null   int64  \n",
      " 6   date                                 2178 non-null   int64  \n",
      " 7   season_Fall                          2178 non-null   uint8  \n",
      " 8   season_Spring                        2178 non-null   uint8  \n",
      " 9   season_Summer                        2178 non-null   uint8  \n",
      " 10  season_Winter                        2178 non-null   uint8  \n",
      " 11  weather_ Clear + Few clouds          2178 non-null   uint8  \n",
      " 12  weather_ Heavy Rain + Thunderstorm   2178 non-null   uint8  \n",
      " 13  weather_ Light Snow, Light Rain      2178 non-null   uint8  \n",
      " 14  weather_ Mist + Cloudy               2178 non-null   uint8  \n",
      " 15  holiday_0                            2178 non-null   uint8  \n",
      " 16  holiday_1                            2178 non-null   uint8  \n",
      " 17  workingday_0                         2178 non-null   uint8  \n",
      " 18  workingday_1                         2178 non-null   uint8  \n",
      " 19  month_April                          2178 non-null   uint8  \n",
      " 20  month_August                         2178 non-null   uint8  \n",
      " 21  month_December                       2178 non-null   uint8  \n",
      " 22  month_February                       2178 non-null   uint8  \n",
      " 23  month_January                        2178 non-null   uint8  \n",
      " 24  month_July                           2178 non-null   uint8  \n",
      " 25  month_June                           2178 non-null   uint8  \n",
      " 26  month_March                          2178 non-null   uint8  \n",
      " 27  month_May                            2178 non-null   uint8  \n",
      " 28  month_November                       2178 non-null   uint8  \n",
      " 29  month_October                        2178 non-null   uint8  \n",
      " 30  month_September                      2178 non-null   uint8  \n",
      " 31  weekday_Friday                       2178 non-null   uint8  \n",
      " 32  weekday_Monday                       2178 non-null   uint8  \n",
      " 33  weekday_Saturday                     2178 non-null   uint8  \n",
      " 34  weekday_Sunday                       2178 non-null   uint8  \n",
      " 35  weekday_Thursday                     2178 non-null   uint8  \n",
      " 36  weekday_Tuesday                      2178 non-null   uint8  \n",
      " 37  weekday_Wednesday                    2178 non-null   uint8  \n",
      "dtypes: float64(3), int64(4), uint8(31)\n",
      "memory usage: 185.2 KB\n"
     ]
    }
   ],
   "source": [
    "df_test.info()"
   ]
  },
  {
   "cell_type": "code",
   "execution_count": 591,
   "metadata": {
    "colab": {
     "base_uri": "https://localhost:8080/"
    },
    "id": "CCf7kNoSmZTd",
    "outputId": "48a24025-a884-4c80-c1a5-5e8f4f7a1ca7"
   },
   "outputs": [
    {
     "data": {
      "text/plain": [
       "(2178,)"
      ]
     },
     "execution_count": 591,
     "metadata": {},
     "output_type": "execute_result"
    }
   ],
   "source": [
    "y_pre1 =model.predict(df_test)\n",
    "y_pre1.shape"
   ]
  },
  {
   "cell_type": "code",
   "execution_count": 592,
   "metadata": {
    "id": "pUPQ6ZAbmcrs"
   },
   "outputs": [],
   "source": [
    "df_test1 = df2[\"labels\"]\n",
    "mse = mean_squared_log_error(y_pre1,df_test1)\n",
    "import math\n",
    "rmse1 = math.sqrt(mse)"
   ]
  },
  {
   "cell_type": "code",
   "execution_count": 593,
   "metadata": {
    "colab": {
     "base_uri": "https://localhost:8080/"
    },
    "id": "gF4Y6a7xmdnY",
    "outputId": "c9bbba6e-81ea-4102-f828-c356d69c54de"
   },
   "outputs": [
    {
     "name": "stdout",
     "output_type": "stream",
     "text": [
      "0.06936526488209525\n"
     ]
    }
   ],
   "source": [
    "print(rmse1)####Without splitting in to train and test and applying random forest regressor for the test data we get mean squared error log =0.069"
   ]
  },
  {
   "cell_type": "code",
   "execution_count": 594,
   "metadata": {
    "id": "Qxx6M3rCifTn"
   },
   "outputs": [],
   "source": [
    "### for test data when we split in to train and test data and predicting it th value meand squared log error is 0.0034\n",
    "\n",
    "X1_train,X1_test,Y1_train,Y1_test =train_test_split(df_test,df2[\"labels\"],random_state = 10,test_size = 0.2)"
   ]
  },
  {
   "cell_type": "code",
   "execution_count": 595,
   "metadata": {
    "colab": {
     "base_uri": "https://localhost:8080/"
    },
    "id": "eNA9z6KZkyn_",
    "outputId": "3cd9fc4e-eae3-4d4e-8a63-6c5cbca7e94b"
   },
   "outputs": [
    {
     "name": "stdout",
     "output_type": "stream",
     "text": [
      "7.605332918851735e-06\n"
     ]
    }
   ],
   "source": [
    "from sklearn.ensemble import RandomForestRegressor\n",
    "regressor = RandomForestRegressor(random_state = 0)\n",
    "regressor.fit(X1_train,Y1_train)\n",
    "Y_pred1 = regressor.predict(X1_test)\n",
    "mqse1 = mean_squared_log_error(Y1_test,Y_pred1)\n",
    "print(mqse1)"
   ]
  },
  {
   "cell_type": "code",
   "execution_count": 596,
   "metadata": {
    "id": "_H4U1msCl4J9"
   },
   "outputs": [],
   "source": [
    "mse = mean_squared_error(Y1_test,Y_pred1)\n",
    "import math\n",
    "rmse = math.sqrt(mse)"
   ]
  },
  {
   "cell_type": "code",
   "execution_count": 597,
   "metadata": {
    "id": "XlQB1T0AmFr1"
   },
   "outputs": [],
   "source": [
    "model1 = GridSearchCV(estimator=RandomForestRegressor(),param_grid= param_grid)\n",
    "model.fit(X1_train,Y1_train)\n",
    "y_pre1 = model.predict(X1_test)"
   ]
  },
  {
   "cell_type": "code",
   "execution_count": 598,
   "metadata": {
    "id": "P3sZ1R2amD4Q"
   },
   "outputs": [],
   "source": [
    "mqse1 = mean_squared_log_error(Y1_test,y_pre1)"
   ]
  },
  {
   "cell_type": "code",
   "execution_count": 599,
   "metadata": {
    "colab": {
     "base_uri": "https://localhost:8080/"
    },
    "id": "ksBwMwMMmuOG",
    "outputId": "94856f8e-281d-48f1-c7d3-89b0f4fc98a2"
   },
   "outputs": [
    {
     "name": "stdout",
     "output_type": "stream",
     "text": [
      "0.003496682043709092\n"
     ]
    }
   ],
   "source": [
    "print(mqse1)#### for test data mean_squared_log error"
   ]
  }
 ],
 "metadata": {
  "colab": {
   "collapsed_sections": [],
   "name": "cabprojectfinal.ipynb",
   "provenance": []
  },
  "kernelspec": {
   "display_name": "Python 3",
   "language": "python",
   "name": "python3"
  },
  "language_info": {
   "codemirror_mode": {
    "name": "ipython",
    "version": 3
   },
   "file_extension": ".py",
   "mimetype": "text/x-python",
   "name": "python",
   "nbconvert_exporter": "python",
   "pygments_lexer": "ipython3",
   "version": "3.7.4"
  }
 },
 "nbformat": 4,
 "nbformat_minor": 1
}
